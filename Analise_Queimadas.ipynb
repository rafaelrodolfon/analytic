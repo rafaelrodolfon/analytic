{
  "cells": [
    {
      "cell_type": "markdown",
      "metadata": {
        "id": "JxbXiP9mxUvH"
      },
      "source": [
        "# **Análise das Queimadas Realizadas no Brasil entre 2017 a 2021**"
      ]
    },
    {
      "cell_type": "markdown",
      "metadata": {
        "id": "f5_aW-_axUvJ"
      },
      "source": [
        "### **Introdução**"
      ]
    },
    {
      "cell_type": "markdown",
      "metadata": {
        "id": "We6WX2W4xUvK"
      },
      "source": [
        "**1. Definição do Problema**\n",
        "\n",
        "---\n",
        "\n",
        "As queimadas representam um desafio significativo para a preservação ambiental e a segurança das comunidades. Com o aumento da frequência e intensidade das queimadas, é essencial entender os fatores que contribuem para sua ocorrência. O objetivo deste trabalho é utilizar um modelo de aprendizagem de máquina para monitorar o risco de queimadas em diferentes localidades, permitindo a implementação de políticas públicas eficazes para prevenir e mitigar esses eventos. A análise é baseada em um conjunto de dados extraído do Kaggle, que inclui informações sobre as condições climáticas, como dias sem chuva e precipitação, bem como dados sobre risco de fogo e características geográficas das áreas afetadas."
      ]
    },
    {
      "cell_type": "markdown",
      "metadata": {
        "id": "SPWajKJaxUvL"
      },
      "source": [
        "Este é um problema de aprendizado supervisionado, pois propõe a construção de um modelo de classificação que visa prever o risco de queimadas em uma localidade específica, categorizando-o em três níveis: alto, médio ou baixo. Essa previsão é baseada em um conjunto de dados históricos que inclui variáveis relevantes, como dias sem chuva, precipitação, e outros fatores ambientais. A utilização de dados rotulados permite que o modelo aprenda a relação entre essas características e a ocorrência de queimadas, proporcionando insights valiosos para a tomada de decisões e o desenvolvimento de políticas públicas de prevenção."
      ]
    },
    {
      "cell_type": "markdown",
      "metadata": {
        "id": "E9j_DcNMxUvL"
      },
      "source": [
        "Informações sobre os atributos:\n",
        "\n",
        "\n",
        "datahora - Data e hora em que os dados foram registrados (formato: YYYY-MM-DD HH:MM:SS).\n",
        "\n",
        "estado - Nome do estado brasileiro onde a observação foi feita.\n",
        "\n",
        "municipio - Nome do município correspondente à localização da observação.\n",
        "\n",
        "bioma - Tipo de bioma da região.\n",
        "\n",
        "diasemchuva - Número de dias de chuva.\n",
        "\n",
        "precipitacao - Quantidade de precipitação acumulada em milímetros.\n",
        "\n",
        "riscofogo - Nível de risco de incêndio na área, variando de baixo a alto.\n",
        "\n",
        "latitude - Coordenada geográfica que indica a posição norte-sul.\n",
        "\n",
        "longitude - Coordenada geográfica que indica a posição leste-oeste.\n",
        "\n"
      ]
    },
    {
      "cell_type": "markdown",
      "metadata": {
        "id": "WVZw_pyuxUvM"
      },
      "source": [
        "**2. Carregamento de bibliotecas e dados**\n",
        "\n",
        "---\n"
      ]
    },
    {
      "cell_type": "code",
      "execution_count": 3,
      "metadata": {
        "id": "Np1Q0k-exUvN"
      },
      "outputs": [],
      "source": [
        "import warnings\n",
        "warnings.filterwarnings(\"ignore\")"
      ]
    },
    {
      "cell_type": "code",
      "execution_count": 4,
      "metadata": {
        "id": "fzKjifHjxUvM"
      },
      "outputs": [],
      "source": [
        "import pandas as pd\n",
        "import numpy as np\n",
        "import matplotlib\n",
        "import matplotlib.pyplot as plt\n",
        "from geopy.distance import geodesic\n",
        "import seaborn as sns\n",
        "from sklearn.preprocessing import LabelEncoder\n",
        "import plotly.express as px\n",
        "from scipy.stats import truncnorm\n",
        "import gc"
      ]
    },
    {
      "cell_type": "code",
      "execution_count": 31,
      "metadata": {
        "id": "ZFW7maolXeEl"
      },
      "outputs": [],
      "source": [
        "from google.colab import files\n",
        "import pandas as pd\n",
        "import gc"
      ]
    },
    {
      "cell_type": "code",
      "execution_count": null,
      "metadata": {
        "id": "s7KmsdZYa7S_"
      },
      "outputs": [],
      "source": [
        "pip install kaggle -q"
      ]
    },
    {
      "cell_type": "code",
      "execution_count": null,
      "metadata": {
        "colab": {
          "base_uri": "https://localhost:8080/",
          "height": 90
        },
        "id": "shwtwZ0OgG-O",
        "outputId": "c0f785ec-c3fe-4a7e-af7d-e9c4c6efd238"
      },
      "outputs": [
        {
          "output_type": "display_data",
          "data": {
            "text/plain": [
              "<IPython.core.display.HTML object>"
            ],
            "text/html": [
              "\n",
              "     <input type=\"file\" id=\"files-25d7fa67-f924-4a3a-a429-5f2f1e1731f4\" name=\"files[]\" multiple disabled\n",
              "        style=\"border:none\" />\n",
              "     <output id=\"result-25d7fa67-f924-4a3a-a429-5f2f1e1731f4\">\n",
              "      Upload widget is only available when the cell has been executed in the\n",
              "      current browser session. Please rerun this cell to enable.\n",
              "      </output>\n",
              "      <script>// Copyright 2017 Google LLC\n",
              "//\n",
              "// Licensed under the Apache License, Version 2.0 (the \"License\");\n",
              "// you may not use this file except in compliance with the License.\n",
              "// You may obtain a copy of the License at\n",
              "//\n",
              "//      http://www.apache.org/licenses/LICENSE-2.0\n",
              "//\n",
              "// Unless required by applicable law or agreed to in writing, software\n",
              "// distributed under the License is distributed on an \"AS IS\" BASIS,\n",
              "// WITHOUT WARRANTIES OR CONDITIONS OF ANY KIND, either express or implied.\n",
              "// See the License for the specific language governing permissions and\n",
              "// limitations under the License.\n",
              "\n",
              "/**\n",
              " * @fileoverview Helpers for google.colab Python module.\n",
              " */\n",
              "(function(scope) {\n",
              "function span(text, styleAttributes = {}) {\n",
              "  const element = document.createElement('span');\n",
              "  element.textContent = text;\n",
              "  for (const key of Object.keys(styleAttributes)) {\n",
              "    element.style[key] = styleAttributes[key];\n",
              "  }\n",
              "  return element;\n",
              "}\n",
              "\n",
              "// Max number of bytes which will be uploaded at a time.\n",
              "const MAX_PAYLOAD_SIZE = 100 * 1024;\n",
              "\n",
              "function _uploadFiles(inputId, outputId) {\n",
              "  const steps = uploadFilesStep(inputId, outputId);\n",
              "  const outputElement = document.getElementById(outputId);\n",
              "  // Cache steps on the outputElement to make it available for the next call\n",
              "  // to uploadFilesContinue from Python.\n",
              "  outputElement.steps = steps;\n",
              "\n",
              "  return _uploadFilesContinue(outputId);\n",
              "}\n",
              "\n",
              "// This is roughly an async generator (not supported in the browser yet),\n",
              "// where there are multiple asynchronous steps and the Python side is going\n",
              "// to poll for completion of each step.\n",
              "// This uses a Promise to block the python side on completion of each step,\n",
              "// then passes the result of the previous step as the input to the next step.\n",
              "function _uploadFilesContinue(outputId) {\n",
              "  const outputElement = document.getElementById(outputId);\n",
              "  const steps = outputElement.steps;\n",
              "\n",
              "  const next = steps.next(outputElement.lastPromiseValue);\n",
              "  return Promise.resolve(next.value.promise).then((value) => {\n",
              "    // Cache the last promise value to make it available to the next\n",
              "    // step of the generator.\n",
              "    outputElement.lastPromiseValue = value;\n",
              "    return next.value.response;\n",
              "  });\n",
              "}\n",
              "\n",
              "/**\n",
              " * Generator function which is called between each async step of the upload\n",
              " * process.\n",
              " * @param {string} inputId Element ID of the input file picker element.\n",
              " * @param {string} outputId Element ID of the output display.\n",
              " * @return {!Iterable<!Object>} Iterable of next steps.\n",
              " */\n",
              "function* uploadFilesStep(inputId, outputId) {\n",
              "  const inputElement = document.getElementById(inputId);\n",
              "  inputElement.disabled = false;\n",
              "\n",
              "  const outputElement = document.getElementById(outputId);\n",
              "  outputElement.innerHTML = '';\n",
              "\n",
              "  const pickedPromise = new Promise((resolve) => {\n",
              "    inputElement.addEventListener('change', (e) => {\n",
              "      resolve(e.target.files);\n",
              "    });\n",
              "  });\n",
              "\n",
              "  const cancel = document.createElement('button');\n",
              "  inputElement.parentElement.appendChild(cancel);\n",
              "  cancel.textContent = 'Cancel upload';\n",
              "  const cancelPromise = new Promise((resolve) => {\n",
              "    cancel.onclick = () => {\n",
              "      resolve(null);\n",
              "    };\n",
              "  });\n",
              "\n",
              "  // Wait for the user to pick the files.\n",
              "  const files = yield {\n",
              "    promise: Promise.race([pickedPromise, cancelPromise]),\n",
              "    response: {\n",
              "      action: 'starting',\n",
              "    }\n",
              "  };\n",
              "\n",
              "  cancel.remove();\n",
              "\n",
              "  // Disable the input element since further picks are not allowed.\n",
              "  inputElement.disabled = true;\n",
              "\n",
              "  if (!files) {\n",
              "    return {\n",
              "      response: {\n",
              "        action: 'complete',\n",
              "      }\n",
              "    };\n",
              "  }\n",
              "\n",
              "  for (const file of files) {\n",
              "    const li = document.createElement('li');\n",
              "    li.append(span(file.name, {fontWeight: 'bold'}));\n",
              "    li.append(span(\n",
              "        `(${file.type || 'n/a'}) - ${file.size} bytes, ` +\n",
              "        `last modified: ${\n",
              "            file.lastModifiedDate ? file.lastModifiedDate.toLocaleDateString() :\n",
              "                                    'n/a'} - `));\n",
              "    const percent = span('0% done');\n",
              "    li.appendChild(percent);\n",
              "\n",
              "    outputElement.appendChild(li);\n",
              "\n",
              "    const fileDataPromise = new Promise((resolve) => {\n",
              "      const reader = new FileReader();\n",
              "      reader.onload = (e) => {\n",
              "        resolve(e.target.result);\n",
              "      };\n",
              "      reader.readAsArrayBuffer(file);\n",
              "    });\n",
              "    // Wait for the data to be ready.\n",
              "    let fileData = yield {\n",
              "      promise: fileDataPromise,\n",
              "      response: {\n",
              "        action: 'continue',\n",
              "      }\n",
              "    };\n",
              "\n",
              "    // Use a chunked sending to avoid message size limits. See b/62115660.\n",
              "    let position = 0;\n",
              "    do {\n",
              "      const length = Math.min(fileData.byteLength - position, MAX_PAYLOAD_SIZE);\n",
              "      const chunk = new Uint8Array(fileData, position, length);\n",
              "      position += length;\n",
              "\n",
              "      const base64 = btoa(String.fromCharCode.apply(null, chunk));\n",
              "      yield {\n",
              "        response: {\n",
              "          action: 'append',\n",
              "          file: file.name,\n",
              "          data: base64,\n",
              "        },\n",
              "      };\n",
              "\n",
              "      let percentDone = fileData.byteLength === 0 ?\n",
              "          100 :\n",
              "          Math.round((position / fileData.byteLength) * 100);\n",
              "      percent.textContent = `${percentDone}% done`;\n",
              "\n",
              "    } while (position < fileData.byteLength);\n",
              "  }\n",
              "\n",
              "  // All done.\n",
              "  yield {\n",
              "    response: {\n",
              "      action: 'complete',\n",
              "    }\n",
              "  };\n",
              "}\n",
              "\n",
              "scope.google = scope.google || {};\n",
              "scope.google.colab = scope.google.colab || {};\n",
              "scope.google.colab._files = {\n",
              "  _uploadFiles,\n",
              "  _uploadFilesContinue,\n",
              "};\n",
              "})(self);\n",
              "</script> "
            ]
          },
          "metadata": {}
        },
        {
          "output_type": "stream",
          "name": "stdout",
          "text": [
            "Saving kaggle.json to kaggle.json\n"
          ]
        },
        {
          "output_type": "execute_result",
          "data": {
            "text/plain": [
              "{'kaggle.json': b'{\"username\":\"rafaelrodolfo\",\"key\":\"5c8767f7c38909a4751ac4bfc3acb753\"}'}"
            ]
          },
          "metadata": {},
          "execution_count": 7
        }
      ],
      "source": [
        "files.upload()"
      ]
    },
    {
      "cell_type": "code",
      "execution_count": null,
      "metadata": {
        "id": "VWDKe3LyYD5c",
        "colab": {
          "base_uri": "https://localhost:8080/"
        },
        "outputId": "410d7537-7567-4208-e283-5becff821a62"
      },
      "outputs": [
        {
          "output_type": "stream",
          "name": "stdout",
          "text": [
            "/content\n",
            "Dataset URL: https://www.kaggle.com/datasets/thalitaalves/queimadas-brasil-2011-2021\n",
            "License(s): unknown\n",
            "Downloading queimadas-brasil-2011-2021.zip to /content\n",
            " 99% 523M/528M [00:09<00:00, 43.0MB/s]\n",
            "100% 528M/528M [00:09<00:00, 61.1MB/s]\n"
          ]
        }
      ],
      "source": [
        "!pwd\n",
        "\n",
        "!kaggle datasets download -d thalitaalves/queimadas-brasil-2011-2021"
      ]
    },
    {
      "cell_type": "code",
      "execution_count": null,
      "metadata": {
        "id": "r6eQnJdnYowF"
      },
      "outputs": [],
      "source": [
        "!mkdir -p ~/.kaggle\n",
        "!mv kaggle.json ~/.kaggle/\n",
        "!chmod 600 ~/.kaggle/kaggle.json"
      ]
    },
    {
      "cell_type": "code",
      "execution_count": null,
      "metadata": {
        "colab": {
          "base_uri": "https://localhost:8080/"
        },
        "id": "7Evhem3GZ6io",
        "outputId": "404abd82-b514-4271-c20c-2ddc41501b54"
      },
      "outputs": [
        {
          "output_type": "stream",
          "name": "stdout",
          "text": [
            "Archive:  queimadas-brasil-2011-2021.zip\n",
            "  inflating: queimadas-brasil-2011-2021/focos-queimadas-brasil-2011-2021.csv  \n"
          ]
        }
      ],
      "source": [
        "!unzip queimadas-brasil-2011-2021.zip -d queimadas-brasil-2011-2021"
      ]
    },
    {
      "cell_type": "code",
      "execution_count": 5,
      "metadata": {
        "id": "0K4p11zzYuSX"
      },
      "outputs": [],
      "source": [
        "df = pd.read_csv('/content/queimadas-brasil-2011-2021/focos-queimadas-brasil-2011-2021.csv')"
      ]
    },
    {
      "cell_type": "markdown",
      "metadata": {
        "id": "GvH1FVQsxUvO"
      },
      "source": [
        "**3. Tratamento e Limpeza dos Dados**\n",
        "\n",
        "---"
      ]
    },
    {
      "cell_type": "code",
      "execution_count": 6,
      "metadata": {
        "id": "vSCiM9SpxUvO",
        "colab": {
          "base_uri": "https://localhost:8080/"
        },
        "outputId": "d35237b5-d1a7-4673-8470-12e801ef6f8c"
      },
      "outputs": [
        {
          "output_type": "execute_result",
          "data": {
            "text/plain": [
              "(29165021, 12)"
            ]
          },
          "metadata": {},
          "execution_count": 6
        }
      ],
      "source": [
        "df.shape"
      ]
    },
    {
      "cell_type": "code",
      "execution_count": 7,
      "metadata": {
        "id": "pAey_GcdxUvP",
        "colab": {
          "base_uri": "https://localhost:8080/"
        },
        "outputId": "8e603a1f-5e9b-4755-8305-da0f1b2803c3"
      },
      "outputs": [
        {
          "output_type": "stream",
          "name": "stdout",
          "text": [
            "<class 'pandas.core.frame.DataFrame'>\n",
            "RangeIndex: 29165021 entries, 0 to 29165020\n",
            "Data columns (total 12 columns):\n",
            " #   Column        Dtype  \n",
            "---  ------        -----  \n",
            " 0   Unnamed: 0    int64  \n",
            " 1   datahora      object \n",
            " 2   satelite      object \n",
            " 3   estado        object \n",
            " 4   municipio     object \n",
            " 5   bioma         object \n",
            " 6   diasemchuva   float64\n",
            " 7   precipitacao  float64\n",
            " 8   riscofogo     float64\n",
            " 9   latitude      float64\n",
            " 10  longitude     float64\n",
            " 11  frp           float64\n",
            "dtypes: float64(6), int64(1), object(5)\n",
            "memory usage: 2.6+ GB\n"
          ]
        }
      ],
      "source": [
        "df.info()"
      ]
    },
    {
      "cell_type": "code",
      "execution_count": 8,
      "metadata": {
        "id": "bPGU2SITxUvP",
        "colab": {
          "base_uri": "https://localhost:8080/",
          "height": 330
        },
        "outputId": "1d8393b4-c68a-4a09-8391-45c51e4237ef"
      },
      "outputs": [
        {
          "output_type": "execute_result",
          "data": {
            "text/plain": [
              "   Unnamed: 0             datahora  satelite               estado municipio  \\\n",
              "0           0  2011/01/01 04:33:00  AQUA_M-M            SAO PAULO   ITUPEVA   \n",
              "1           1  2011/01/01 09:05:48  NOAA-16N  RIO GRANDE DO NORTE    TOUROS   \n",
              "2           2  2011/01/01 12:45:00   GOES-12                BAHIA    GLORIA   \n",
              "3           3  2011/01/01 12:45:00   GOES-12                BAHIA    GLORIA   \n",
              "4           4  2011/01/01 13:00:00   GOES-12           PERNAMBUCO  FLORESTA   \n",
              "\n",
              "            bioma  diasemchuva  precipitacao  riscofogo  latitude  longitude  \\\n",
              "0  Mata Atlantica          NaN           NaN        NaN -23.14400  -47.11800   \n",
              "1        Caatinga          NaN           NaN        NaN  -5.32167  -35.62667   \n",
              "2        Caatinga          NaN           NaN        NaN  -9.03354  -38.32000   \n",
              "3        Caatinga          NaN           NaN        NaN  -9.00355  -38.33000   \n",
              "4        Caatinga          NaN           NaN        NaN  -8.81357  -38.53000   \n",
              "\n",
              "   frp  \n",
              "0  NaN  \n",
              "1  NaN  \n",
              "2  NaN  \n",
              "3  NaN  \n",
              "4  NaN  "
            ],
            "text/html": [
              "\n",
              "  <div id=\"df-ecc1bce0-30f1-435a-890f-94869e9c3534\" class=\"colab-df-container\">\n",
              "    <div>\n",
              "<style scoped>\n",
              "    .dataframe tbody tr th:only-of-type {\n",
              "        vertical-align: middle;\n",
              "    }\n",
              "\n",
              "    .dataframe tbody tr th {\n",
              "        vertical-align: top;\n",
              "    }\n",
              "\n",
              "    .dataframe thead th {\n",
              "        text-align: right;\n",
              "    }\n",
              "</style>\n",
              "<table border=\"1\" class=\"dataframe\">\n",
              "  <thead>\n",
              "    <tr style=\"text-align: right;\">\n",
              "      <th></th>\n",
              "      <th>Unnamed: 0</th>\n",
              "      <th>datahora</th>\n",
              "      <th>satelite</th>\n",
              "      <th>estado</th>\n",
              "      <th>municipio</th>\n",
              "      <th>bioma</th>\n",
              "      <th>diasemchuva</th>\n",
              "      <th>precipitacao</th>\n",
              "      <th>riscofogo</th>\n",
              "      <th>latitude</th>\n",
              "      <th>longitude</th>\n",
              "      <th>frp</th>\n",
              "    </tr>\n",
              "  </thead>\n",
              "  <tbody>\n",
              "    <tr>\n",
              "      <th>0</th>\n",
              "      <td>0</td>\n",
              "      <td>2011/01/01 04:33:00</td>\n",
              "      <td>AQUA_M-M</td>\n",
              "      <td>SAO PAULO</td>\n",
              "      <td>ITUPEVA</td>\n",
              "      <td>Mata Atlantica</td>\n",
              "      <td>NaN</td>\n",
              "      <td>NaN</td>\n",
              "      <td>NaN</td>\n",
              "      <td>-23.14400</td>\n",
              "      <td>-47.11800</td>\n",
              "      <td>NaN</td>\n",
              "    </tr>\n",
              "    <tr>\n",
              "      <th>1</th>\n",
              "      <td>1</td>\n",
              "      <td>2011/01/01 09:05:48</td>\n",
              "      <td>NOAA-16N</td>\n",
              "      <td>RIO GRANDE DO NORTE</td>\n",
              "      <td>TOUROS</td>\n",
              "      <td>Caatinga</td>\n",
              "      <td>NaN</td>\n",
              "      <td>NaN</td>\n",
              "      <td>NaN</td>\n",
              "      <td>-5.32167</td>\n",
              "      <td>-35.62667</td>\n",
              "      <td>NaN</td>\n",
              "    </tr>\n",
              "    <tr>\n",
              "      <th>2</th>\n",
              "      <td>2</td>\n",
              "      <td>2011/01/01 12:45:00</td>\n",
              "      <td>GOES-12</td>\n",
              "      <td>BAHIA</td>\n",
              "      <td>GLORIA</td>\n",
              "      <td>Caatinga</td>\n",
              "      <td>NaN</td>\n",
              "      <td>NaN</td>\n",
              "      <td>NaN</td>\n",
              "      <td>-9.03354</td>\n",
              "      <td>-38.32000</td>\n",
              "      <td>NaN</td>\n",
              "    </tr>\n",
              "    <tr>\n",
              "      <th>3</th>\n",
              "      <td>3</td>\n",
              "      <td>2011/01/01 12:45:00</td>\n",
              "      <td>GOES-12</td>\n",
              "      <td>BAHIA</td>\n",
              "      <td>GLORIA</td>\n",
              "      <td>Caatinga</td>\n",
              "      <td>NaN</td>\n",
              "      <td>NaN</td>\n",
              "      <td>NaN</td>\n",
              "      <td>-9.00355</td>\n",
              "      <td>-38.33000</td>\n",
              "      <td>NaN</td>\n",
              "    </tr>\n",
              "    <tr>\n",
              "      <th>4</th>\n",
              "      <td>4</td>\n",
              "      <td>2011/01/01 13:00:00</td>\n",
              "      <td>GOES-12</td>\n",
              "      <td>PERNAMBUCO</td>\n",
              "      <td>FLORESTA</td>\n",
              "      <td>Caatinga</td>\n",
              "      <td>NaN</td>\n",
              "      <td>NaN</td>\n",
              "      <td>NaN</td>\n",
              "      <td>-8.81357</td>\n",
              "      <td>-38.53000</td>\n",
              "      <td>NaN</td>\n",
              "    </tr>\n",
              "  </tbody>\n",
              "</table>\n",
              "</div>\n",
              "    <div class=\"colab-df-buttons\">\n",
              "\n",
              "  <div class=\"colab-df-container\">\n",
              "    <button class=\"colab-df-convert\" onclick=\"convertToInteractive('df-ecc1bce0-30f1-435a-890f-94869e9c3534')\"\n",
              "            title=\"Convert this dataframe to an interactive table.\"\n",
              "            style=\"display:none;\">\n",
              "\n",
              "  <svg xmlns=\"http://www.w3.org/2000/svg\" height=\"24px\" viewBox=\"0 -960 960 960\">\n",
              "    <path d=\"M120-120v-720h720v720H120Zm60-500h600v-160H180v160Zm220 220h160v-160H400v160Zm0 220h160v-160H400v160ZM180-400h160v-160H180v160Zm440 0h160v-160H620v160ZM180-180h160v-160H180v160Zm440 0h160v-160H620v160Z\"/>\n",
              "  </svg>\n",
              "    </button>\n",
              "\n",
              "  <style>\n",
              "    .colab-df-container {\n",
              "      display:flex;\n",
              "      gap: 12px;\n",
              "    }\n",
              "\n",
              "    .colab-df-convert {\n",
              "      background-color: #E8F0FE;\n",
              "      border: none;\n",
              "      border-radius: 50%;\n",
              "      cursor: pointer;\n",
              "      display: none;\n",
              "      fill: #1967D2;\n",
              "      height: 32px;\n",
              "      padding: 0 0 0 0;\n",
              "      width: 32px;\n",
              "    }\n",
              "\n",
              "    .colab-df-convert:hover {\n",
              "      background-color: #E2EBFA;\n",
              "      box-shadow: 0px 1px 2px rgba(60, 64, 67, 0.3), 0px 1px 3px 1px rgba(60, 64, 67, 0.15);\n",
              "      fill: #174EA6;\n",
              "    }\n",
              "\n",
              "    .colab-df-buttons div {\n",
              "      margin-bottom: 4px;\n",
              "    }\n",
              "\n",
              "    [theme=dark] .colab-df-convert {\n",
              "      background-color: #3B4455;\n",
              "      fill: #D2E3FC;\n",
              "    }\n",
              "\n",
              "    [theme=dark] .colab-df-convert:hover {\n",
              "      background-color: #434B5C;\n",
              "      box-shadow: 0px 1px 3px 1px rgba(0, 0, 0, 0.15);\n",
              "      filter: drop-shadow(0px 1px 2px rgba(0, 0, 0, 0.3));\n",
              "      fill: #FFFFFF;\n",
              "    }\n",
              "  </style>\n",
              "\n",
              "    <script>\n",
              "      const buttonEl =\n",
              "        document.querySelector('#df-ecc1bce0-30f1-435a-890f-94869e9c3534 button.colab-df-convert');\n",
              "      buttonEl.style.display =\n",
              "        google.colab.kernel.accessAllowed ? 'block' : 'none';\n",
              "\n",
              "      async function convertToInteractive(key) {\n",
              "        const element = document.querySelector('#df-ecc1bce0-30f1-435a-890f-94869e9c3534');\n",
              "        const dataTable =\n",
              "          await google.colab.kernel.invokeFunction('convertToInteractive',\n",
              "                                                    [key], {});\n",
              "        if (!dataTable) return;\n",
              "\n",
              "        const docLinkHtml = 'Like what you see? Visit the ' +\n",
              "          '<a target=\"_blank\" href=https://colab.research.google.com/notebooks/data_table.ipynb>data table notebook</a>'\n",
              "          + ' to learn more about interactive tables.';\n",
              "        element.innerHTML = '';\n",
              "        dataTable['output_type'] = 'display_data';\n",
              "        await google.colab.output.renderOutput(dataTable, element);\n",
              "        const docLink = document.createElement('div');\n",
              "        docLink.innerHTML = docLinkHtml;\n",
              "        element.appendChild(docLink);\n",
              "      }\n",
              "    </script>\n",
              "  </div>\n",
              "\n",
              "\n",
              "<div id=\"df-326065c1-fa26-48ab-80f4-fd65179c1e81\">\n",
              "  <button class=\"colab-df-quickchart\" onclick=\"quickchart('df-326065c1-fa26-48ab-80f4-fd65179c1e81')\"\n",
              "            title=\"Suggest charts\"\n",
              "            style=\"display:none;\">\n",
              "\n",
              "<svg xmlns=\"http://www.w3.org/2000/svg\" height=\"24px\"viewBox=\"0 0 24 24\"\n",
              "     width=\"24px\">\n",
              "    <g>\n",
              "        <path d=\"M19 3H5c-1.1 0-2 .9-2 2v14c0 1.1.9 2 2 2h14c1.1 0 2-.9 2-2V5c0-1.1-.9-2-2-2zM9 17H7v-7h2v7zm4 0h-2V7h2v10zm4 0h-2v-4h2v4z\"/>\n",
              "    </g>\n",
              "</svg>\n",
              "  </button>\n",
              "\n",
              "<style>\n",
              "  .colab-df-quickchart {\n",
              "      --bg-color: #E8F0FE;\n",
              "      --fill-color: #1967D2;\n",
              "      --hover-bg-color: #E2EBFA;\n",
              "      --hover-fill-color: #174EA6;\n",
              "      --disabled-fill-color: #AAA;\n",
              "      --disabled-bg-color: #DDD;\n",
              "  }\n",
              "\n",
              "  [theme=dark] .colab-df-quickchart {\n",
              "      --bg-color: #3B4455;\n",
              "      --fill-color: #D2E3FC;\n",
              "      --hover-bg-color: #434B5C;\n",
              "      --hover-fill-color: #FFFFFF;\n",
              "      --disabled-bg-color: #3B4455;\n",
              "      --disabled-fill-color: #666;\n",
              "  }\n",
              "\n",
              "  .colab-df-quickchart {\n",
              "    background-color: var(--bg-color);\n",
              "    border: none;\n",
              "    border-radius: 50%;\n",
              "    cursor: pointer;\n",
              "    display: none;\n",
              "    fill: var(--fill-color);\n",
              "    height: 32px;\n",
              "    padding: 0;\n",
              "    width: 32px;\n",
              "  }\n",
              "\n",
              "  .colab-df-quickchart:hover {\n",
              "    background-color: var(--hover-bg-color);\n",
              "    box-shadow: 0 1px 2px rgba(60, 64, 67, 0.3), 0 1px 3px 1px rgba(60, 64, 67, 0.15);\n",
              "    fill: var(--button-hover-fill-color);\n",
              "  }\n",
              "\n",
              "  .colab-df-quickchart-complete:disabled,\n",
              "  .colab-df-quickchart-complete:disabled:hover {\n",
              "    background-color: var(--disabled-bg-color);\n",
              "    fill: var(--disabled-fill-color);\n",
              "    box-shadow: none;\n",
              "  }\n",
              "\n",
              "  .colab-df-spinner {\n",
              "    border: 2px solid var(--fill-color);\n",
              "    border-color: transparent;\n",
              "    border-bottom-color: var(--fill-color);\n",
              "    animation:\n",
              "      spin 1s steps(1) infinite;\n",
              "  }\n",
              "\n",
              "  @keyframes spin {\n",
              "    0% {\n",
              "      border-color: transparent;\n",
              "      border-bottom-color: var(--fill-color);\n",
              "      border-left-color: var(--fill-color);\n",
              "    }\n",
              "    20% {\n",
              "      border-color: transparent;\n",
              "      border-left-color: var(--fill-color);\n",
              "      border-top-color: var(--fill-color);\n",
              "    }\n",
              "    30% {\n",
              "      border-color: transparent;\n",
              "      border-left-color: var(--fill-color);\n",
              "      border-top-color: var(--fill-color);\n",
              "      border-right-color: var(--fill-color);\n",
              "    }\n",
              "    40% {\n",
              "      border-color: transparent;\n",
              "      border-right-color: var(--fill-color);\n",
              "      border-top-color: var(--fill-color);\n",
              "    }\n",
              "    60% {\n",
              "      border-color: transparent;\n",
              "      border-right-color: var(--fill-color);\n",
              "    }\n",
              "    80% {\n",
              "      border-color: transparent;\n",
              "      border-right-color: var(--fill-color);\n",
              "      border-bottom-color: var(--fill-color);\n",
              "    }\n",
              "    90% {\n",
              "      border-color: transparent;\n",
              "      border-bottom-color: var(--fill-color);\n",
              "    }\n",
              "  }\n",
              "</style>\n",
              "\n",
              "  <script>\n",
              "    async function quickchart(key) {\n",
              "      const quickchartButtonEl =\n",
              "        document.querySelector('#' + key + ' button');\n",
              "      quickchartButtonEl.disabled = true;  // To prevent multiple clicks.\n",
              "      quickchartButtonEl.classList.add('colab-df-spinner');\n",
              "      try {\n",
              "        const charts = await google.colab.kernel.invokeFunction(\n",
              "            'suggestCharts', [key], {});\n",
              "      } catch (error) {\n",
              "        console.error('Error during call to suggestCharts:', error);\n",
              "      }\n",
              "      quickchartButtonEl.classList.remove('colab-df-spinner');\n",
              "      quickchartButtonEl.classList.add('colab-df-quickchart-complete');\n",
              "    }\n",
              "    (() => {\n",
              "      let quickchartButtonEl =\n",
              "        document.querySelector('#df-326065c1-fa26-48ab-80f4-fd65179c1e81 button');\n",
              "      quickchartButtonEl.style.display =\n",
              "        google.colab.kernel.accessAllowed ? 'block' : 'none';\n",
              "    })();\n",
              "  </script>\n",
              "</div>\n",
              "\n",
              "    </div>\n",
              "  </div>\n"
            ],
            "application/vnd.google.colaboratory.intrinsic+json": {
              "type": "dataframe",
              "variable_name": "df"
            }
          },
          "metadata": {},
          "execution_count": 8
        }
      ],
      "source": [
        "df.head()"
      ]
    },
    {
      "cell_type": "code",
      "execution_count": 9,
      "metadata": {
        "id": "mXkDTJEoxUvP",
        "colab": {
          "base_uri": "https://localhost:8080/",
          "height": 417
        },
        "outputId": "fc7b08c1-5dd8-4f3a-a92b-d090e0a7ab18"
      },
      "outputs": [
        {
          "output_type": "execute_result",
          "data": {
            "text/plain": [
              "          Unnamed: 0             datahora satelite estado  \\\n",
              "29165016     4404595  2021/09/14 04:59:00  NPP-375  GOIAS   \n",
              "29165017     4404596  2021/09/14 04:59:00  NPP-375  GOIAS   \n",
              "29165018     4404597  2021/09/14 04:59:00  NPP-375  GOIAS   \n",
              "29165019     4404598  2021/09/14 04:59:00  NPP-375  GOIAS   \n",
              "29165020     4404599  2021/09/14 04:59:00  NPP-375  GOIAS   \n",
              "\n",
              "                     municipio    bioma  diasemchuva  precipitacao  riscofogo  \\\n",
              "29165016  NOVA IGUACU DE GOIAS  Cerrado        119.0           0.0        1.0   \n",
              "29165017  NOVA IGUACU DE GOIAS  Cerrado        117.0           0.0        1.0   \n",
              "29165018  NOVA IGUACU DE GOIAS  Cerrado        119.0           0.0        1.0   \n",
              "29165019  NOVA IGUACU DE GOIAS  Cerrado        119.0           0.0        1.0   \n",
              "29165020  NOVA IGUACU DE GOIAS  Cerrado        119.0           0.0        1.0   \n",
              "\n",
              "          latitude  longitude  frp  \n",
              "29165016 -14.34131  -49.33053  1.6  \n",
              "29165017 -14.34250  -49.35736  1.2  \n",
              "29165018 -14.34362  -49.34859  3.1  \n",
              "29165019 -14.34417  -49.34423  3.1  \n",
              "29165020 -14.34474  -49.33976  2.3  "
            ],
            "text/html": [
              "\n",
              "  <div id=\"df-a120d9f2-5c63-462e-aac1-20197e291f9e\" class=\"colab-df-container\">\n",
              "    <div>\n",
              "<style scoped>\n",
              "    .dataframe tbody tr th:only-of-type {\n",
              "        vertical-align: middle;\n",
              "    }\n",
              "\n",
              "    .dataframe tbody tr th {\n",
              "        vertical-align: top;\n",
              "    }\n",
              "\n",
              "    .dataframe thead th {\n",
              "        text-align: right;\n",
              "    }\n",
              "</style>\n",
              "<table border=\"1\" class=\"dataframe\">\n",
              "  <thead>\n",
              "    <tr style=\"text-align: right;\">\n",
              "      <th></th>\n",
              "      <th>Unnamed: 0</th>\n",
              "      <th>datahora</th>\n",
              "      <th>satelite</th>\n",
              "      <th>estado</th>\n",
              "      <th>municipio</th>\n",
              "      <th>bioma</th>\n",
              "      <th>diasemchuva</th>\n",
              "      <th>precipitacao</th>\n",
              "      <th>riscofogo</th>\n",
              "      <th>latitude</th>\n",
              "      <th>longitude</th>\n",
              "      <th>frp</th>\n",
              "    </tr>\n",
              "  </thead>\n",
              "  <tbody>\n",
              "    <tr>\n",
              "      <th>29165016</th>\n",
              "      <td>4404595</td>\n",
              "      <td>2021/09/14 04:59:00</td>\n",
              "      <td>NPP-375</td>\n",
              "      <td>GOIAS</td>\n",
              "      <td>NOVA IGUACU DE GOIAS</td>\n",
              "      <td>Cerrado</td>\n",
              "      <td>119.0</td>\n",
              "      <td>0.0</td>\n",
              "      <td>1.0</td>\n",
              "      <td>-14.34131</td>\n",
              "      <td>-49.33053</td>\n",
              "      <td>1.6</td>\n",
              "    </tr>\n",
              "    <tr>\n",
              "      <th>29165017</th>\n",
              "      <td>4404596</td>\n",
              "      <td>2021/09/14 04:59:00</td>\n",
              "      <td>NPP-375</td>\n",
              "      <td>GOIAS</td>\n",
              "      <td>NOVA IGUACU DE GOIAS</td>\n",
              "      <td>Cerrado</td>\n",
              "      <td>117.0</td>\n",
              "      <td>0.0</td>\n",
              "      <td>1.0</td>\n",
              "      <td>-14.34250</td>\n",
              "      <td>-49.35736</td>\n",
              "      <td>1.2</td>\n",
              "    </tr>\n",
              "    <tr>\n",
              "      <th>29165018</th>\n",
              "      <td>4404597</td>\n",
              "      <td>2021/09/14 04:59:00</td>\n",
              "      <td>NPP-375</td>\n",
              "      <td>GOIAS</td>\n",
              "      <td>NOVA IGUACU DE GOIAS</td>\n",
              "      <td>Cerrado</td>\n",
              "      <td>119.0</td>\n",
              "      <td>0.0</td>\n",
              "      <td>1.0</td>\n",
              "      <td>-14.34362</td>\n",
              "      <td>-49.34859</td>\n",
              "      <td>3.1</td>\n",
              "    </tr>\n",
              "    <tr>\n",
              "      <th>29165019</th>\n",
              "      <td>4404598</td>\n",
              "      <td>2021/09/14 04:59:00</td>\n",
              "      <td>NPP-375</td>\n",
              "      <td>GOIAS</td>\n",
              "      <td>NOVA IGUACU DE GOIAS</td>\n",
              "      <td>Cerrado</td>\n",
              "      <td>119.0</td>\n",
              "      <td>0.0</td>\n",
              "      <td>1.0</td>\n",
              "      <td>-14.34417</td>\n",
              "      <td>-49.34423</td>\n",
              "      <td>3.1</td>\n",
              "    </tr>\n",
              "    <tr>\n",
              "      <th>29165020</th>\n",
              "      <td>4404599</td>\n",
              "      <td>2021/09/14 04:59:00</td>\n",
              "      <td>NPP-375</td>\n",
              "      <td>GOIAS</td>\n",
              "      <td>NOVA IGUACU DE GOIAS</td>\n",
              "      <td>Cerrado</td>\n",
              "      <td>119.0</td>\n",
              "      <td>0.0</td>\n",
              "      <td>1.0</td>\n",
              "      <td>-14.34474</td>\n",
              "      <td>-49.33976</td>\n",
              "      <td>2.3</td>\n",
              "    </tr>\n",
              "  </tbody>\n",
              "</table>\n",
              "</div>\n",
              "    <div class=\"colab-df-buttons\">\n",
              "\n",
              "  <div class=\"colab-df-container\">\n",
              "    <button class=\"colab-df-convert\" onclick=\"convertToInteractive('df-a120d9f2-5c63-462e-aac1-20197e291f9e')\"\n",
              "            title=\"Convert this dataframe to an interactive table.\"\n",
              "            style=\"display:none;\">\n",
              "\n",
              "  <svg xmlns=\"http://www.w3.org/2000/svg\" height=\"24px\" viewBox=\"0 -960 960 960\">\n",
              "    <path d=\"M120-120v-720h720v720H120Zm60-500h600v-160H180v160Zm220 220h160v-160H400v160Zm0 220h160v-160H400v160ZM180-400h160v-160H180v160Zm440 0h160v-160H620v160ZM180-180h160v-160H180v160Zm440 0h160v-160H620v160Z\"/>\n",
              "  </svg>\n",
              "    </button>\n",
              "\n",
              "  <style>\n",
              "    .colab-df-container {\n",
              "      display:flex;\n",
              "      gap: 12px;\n",
              "    }\n",
              "\n",
              "    .colab-df-convert {\n",
              "      background-color: #E8F0FE;\n",
              "      border: none;\n",
              "      border-radius: 50%;\n",
              "      cursor: pointer;\n",
              "      display: none;\n",
              "      fill: #1967D2;\n",
              "      height: 32px;\n",
              "      padding: 0 0 0 0;\n",
              "      width: 32px;\n",
              "    }\n",
              "\n",
              "    .colab-df-convert:hover {\n",
              "      background-color: #E2EBFA;\n",
              "      box-shadow: 0px 1px 2px rgba(60, 64, 67, 0.3), 0px 1px 3px 1px rgba(60, 64, 67, 0.15);\n",
              "      fill: #174EA6;\n",
              "    }\n",
              "\n",
              "    .colab-df-buttons div {\n",
              "      margin-bottom: 4px;\n",
              "    }\n",
              "\n",
              "    [theme=dark] .colab-df-convert {\n",
              "      background-color: #3B4455;\n",
              "      fill: #D2E3FC;\n",
              "    }\n",
              "\n",
              "    [theme=dark] .colab-df-convert:hover {\n",
              "      background-color: #434B5C;\n",
              "      box-shadow: 0px 1px 3px 1px rgba(0, 0, 0, 0.15);\n",
              "      filter: drop-shadow(0px 1px 2px rgba(0, 0, 0, 0.3));\n",
              "      fill: #FFFFFF;\n",
              "    }\n",
              "  </style>\n",
              "\n",
              "    <script>\n",
              "      const buttonEl =\n",
              "        document.querySelector('#df-a120d9f2-5c63-462e-aac1-20197e291f9e button.colab-df-convert');\n",
              "      buttonEl.style.display =\n",
              "        google.colab.kernel.accessAllowed ? 'block' : 'none';\n",
              "\n",
              "      async function convertToInteractive(key) {\n",
              "        const element = document.querySelector('#df-a120d9f2-5c63-462e-aac1-20197e291f9e');\n",
              "        const dataTable =\n",
              "          await google.colab.kernel.invokeFunction('convertToInteractive',\n",
              "                                                    [key], {});\n",
              "        if (!dataTable) return;\n",
              "\n",
              "        const docLinkHtml = 'Like what you see? Visit the ' +\n",
              "          '<a target=\"_blank\" href=https://colab.research.google.com/notebooks/data_table.ipynb>data table notebook</a>'\n",
              "          + ' to learn more about interactive tables.';\n",
              "        element.innerHTML = '';\n",
              "        dataTable['output_type'] = 'display_data';\n",
              "        await google.colab.output.renderOutput(dataTable, element);\n",
              "        const docLink = document.createElement('div');\n",
              "        docLink.innerHTML = docLinkHtml;\n",
              "        element.appendChild(docLink);\n",
              "      }\n",
              "    </script>\n",
              "  </div>\n",
              "\n",
              "\n",
              "<div id=\"df-3ae9603e-2d49-46be-b992-965f104850ac\">\n",
              "  <button class=\"colab-df-quickchart\" onclick=\"quickchart('df-3ae9603e-2d49-46be-b992-965f104850ac')\"\n",
              "            title=\"Suggest charts\"\n",
              "            style=\"display:none;\">\n",
              "\n",
              "<svg xmlns=\"http://www.w3.org/2000/svg\" height=\"24px\"viewBox=\"0 0 24 24\"\n",
              "     width=\"24px\">\n",
              "    <g>\n",
              "        <path d=\"M19 3H5c-1.1 0-2 .9-2 2v14c0 1.1.9 2 2 2h14c1.1 0 2-.9 2-2V5c0-1.1-.9-2-2-2zM9 17H7v-7h2v7zm4 0h-2V7h2v10zm4 0h-2v-4h2v4z\"/>\n",
              "    </g>\n",
              "</svg>\n",
              "  </button>\n",
              "\n",
              "<style>\n",
              "  .colab-df-quickchart {\n",
              "      --bg-color: #E8F0FE;\n",
              "      --fill-color: #1967D2;\n",
              "      --hover-bg-color: #E2EBFA;\n",
              "      --hover-fill-color: #174EA6;\n",
              "      --disabled-fill-color: #AAA;\n",
              "      --disabled-bg-color: #DDD;\n",
              "  }\n",
              "\n",
              "  [theme=dark] .colab-df-quickchart {\n",
              "      --bg-color: #3B4455;\n",
              "      --fill-color: #D2E3FC;\n",
              "      --hover-bg-color: #434B5C;\n",
              "      --hover-fill-color: #FFFFFF;\n",
              "      --disabled-bg-color: #3B4455;\n",
              "      --disabled-fill-color: #666;\n",
              "  }\n",
              "\n",
              "  .colab-df-quickchart {\n",
              "    background-color: var(--bg-color);\n",
              "    border: none;\n",
              "    border-radius: 50%;\n",
              "    cursor: pointer;\n",
              "    display: none;\n",
              "    fill: var(--fill-color);\n",
              "    height: 32px;\n",
              "    padding: 0;\n",
              "    width: 32px;\n",
              "  }\n",
              "\n",
              "  .colab-df-quickchart:hover {\n",
              "    background-color: var(--hover-bg-color);\n",
              "    box-shadow: 0 1px 2px rgba(60, 64, 67, 0.3), 0 1px 3px 1px rgba(60, 64, 67, 0.15);\n",
              "    fill: var(--button-hover-fill-color);\n",
              "  }\n",
              "\n",
              "  .colab-df-quickchart-complete:disabled,\n",
              "  .colab-df-quickchart-complete:disabled:hover {\n",
              "    background-color: var(--disabled-bg-color);\n",
              "    fill: var(--disabled-fill-color);\n",
              "    box-shadow: none;\n",
              "  }\n",
              "\n",
              "  .colab-df-spinner {\n",
              "    border: 2px solid var(--fill-color);\n",
              "    border-color: transparent;\n",
              "    border-bottom-color: var(--fill-color);\n",
              "    animation:\n",
              "      spin 1s steps(1) infinite;\n",
              "  }\n",
              "\n",
              "  @keyframes spin {\n",
              "    0% {\n",
              "      border-color: transparent;\n",
              "      border-bottom-color: var(--fill-color);\n",
              "      border-left-color: var(--fill-color);\n",
              "    }\n",
              "    20% {\n",
              "      border-color: transparent;\n",
              "      border-left-color: var(--fill-color);\n",
              "      border-top-color: var(--fill-color);\n",
              "    }\n",
              "    30% {\n",
              "      border-color: transparent;\n",
              "      border-left-color: var(--fill-color);\n",
              "      border-top-color: var(--fill-color);\n",
              "      border-right-color: var(--fill-color);\n",
              "    }\n",
              "    40% {\n",
              "      border-color: transparent;\n",
              "      border-right-color: var(--fill-color);\n",
              "      border-top-color: var(--fill-color);\n",
              "    }\n",
              "    60% {\n",
              "      border-color: transparent;\n",
              "      border-right-color: var(--fill-color);\n",
              "    }\n",
              "    80% {\n",
              "      border-color: transparent;\n",
              "      border-right-color: var(--fill-color);\n",
              "      border-bottom-color: var(--fill-color);\n",
              "    }\n",
              "    90% {\n",
              "      border-color: transparent;\n",
              "      border-bottom-color: var(--fill-color);\n",
              "    }\n",
              "  }\n",
              "</style>\n",
              "\n",
              "  <script>\n",
              "    async function quickchart(key) {\n",
              "      const quickchartButtonEl =\n",
              "        document.querySelector('#' + key + ' button');\n",
              "      quickchartButtonEl.disabled = true;  // To prevent multiple clicks.\n",
              "      quickchartButtonEl.classList.add('colab-df-spinner');\n",
              "      try {\n",
              "        const charts = await google.colab.kernel.invokeFunction(\n",
              "            'suggestCharts', [key], {});\n",
              "      } catch (error) {\n",
              "        console.error('Error during call to suggestCharts:', error);\n",
              "      }\n",
              "      quickchartButtonEl.classList.remove('colab-df-spinner');\n",
              "      quickchartButtonEl.classList.add('colab-df-quickchart-complete');\n",
              "    }\n",
              "    (() => {\n",
              "      let quickchartButtonEl =\n",
              "        document.querySelector('#df-3ae9603e-2d49-46be-b992-965f104850ac button');\n",
              "      quickchartButtonEl.style.display =\n",
              "        google.colab.kernel.accessAllowed ? 'block' : 'none';\n",
              "    })();\n",
              "  </script>\n",
              "</div>\n",
              "\n",
              "    </div>\n",
              "  </div>\n"
            ],
            "application/vnd.google.colaboratory.intrinsic+json": {
              "type": "dataframe",
              "repr_error": "0"
            }
          },
          "metadata": {},
          "execution_count": 9
        }
      ],
      "source": [
        "df.tail()"
      ]
    },
    {
      "cell_type": "code",
      "execution_count": 10,
      "metadata": {
        "id": "kMoElTJHxUvQ"
      },
      "outputs": [],
      "source": [
        "df = df.drop(columns=['frp', 'Unnamed: 0','satelite'])"
      ]
    },
    {
      "cell_type": "code",
      "execution_count": 11,
      "metadata": {
        "id": "xwfwXTEKxUvQ",
        "colab": {
          "base_uri": "https://localhost:8080/",
          "height": 366
        },
        "outputId": "4675b871-9d1d-41c1-aa86-ff9010d55ae2"
      },
      "outputs": [
        {
          "output_type": "execute_result",
          "data": {
            "text/plain": [
              "datahora              0\n",
              "estado                0\n",
              "municipio             0\n",
              "bioma              1000\n",
              "diasemchuva     4855864\n",
              "precipitacao    4855864\n",
              "riscofogo       4855864\n",
              "latitude              0\n",
              "longitude             0\n",
              "dtype: int64"
            ],
            "text/html": [
              "<div>\n",
              "<style scoped>\n",
              "    .dataframe tbody tr th:only-of-type {\n",
              "        vertical-align: middle;\n",
              "    }\n",
              "\n",
              "    .dataframe tbody tr th {\n",
              "        vertical-align: top;\n",
              "    }\n",
              "\n",
              "    .dataframe thead th {\n",
              "        text-align: right;\n",
              "    }\n",
              "</style>\n",
              "<table border=\"1\" class=\"dataframe\">\n",
              "  <thead>\n",
              "    <tr style=\"text-align: right;\">\n",
              "      <th></th>\n",
              "      <th>0</th>\n",
              "    </tr>\n",
              "  </thead>\n",
              "  <tbody>\n",
              "    <tr>\n",
              "      <th>datahora</th>\n",
              "      <td>0</td>\n",
              "    </tr>\n",
              "    <tr>\n",
              "      <th>estado</th>\n",
              "      <td>0</td>\n",
              "    </tr>\n",
              "    <tr>\n",
              "      <th>municipio</th>\n",
              "      <td>0</td>\n",
              "    </tr>\n",
              "    <tr>\n",
              "      <th>bioma</th>\n",
              "      <td>1000</td>\n",
              "    </tr>\n",
              "    <tr>\n",
              "      <th>diasemchuva</th>\n",
              "      <td>4855864</td>\n",
              "    </tr>\n",
              "    <tr>\n",
              "      <th>precipitacao</th>\n",
              "      <td>4855864</td>\n",
              "    </tr>\n",
              "    <tr>\n",
              "      <th>riscofogo</th>\n",
              "      <td>4855864</td>\n",
              "    </tr>\n",
              "    <tr>\n",
              "      <th>latitude</th>\n",
              "      <td>0</td>\n",
              "    </tr>\n",
              "    <tr>\n",
              "      <th>longitude</th>\n",
              "      <td>0</td>\n",
              "    </tr>\n",
              "  </tbody>\n",
              "</table>\n",
              "</div><br><label><b>dtype:</b> int64</label>"
            ]
          },
          "metadata": {},
          "execution_count": 11
        }
      ],
      "source": [
        "df.isnull().sum()"
      ]
    },
    {
      "cell_type": "markdown",
      "metadata": {
        "id": "4-Mckd8FxUvQ"
      },
      "source": [
        "Criando colunas no dataframe de tempo para comprenção dos dados"
      ]
    },
    {
      "cell_type": "code",
      "execution_count": 12,
      "metadata": {
        "id": "bssJL9oUxUvR"
      },
      "outputs": [],
      "source": [
        "df['datahora'] = pd.to_datetime(df['datahora'])\n",
        "\n",
        "df['dia'] = df['datahora'].dt.day\n",
        "\n",
        "df['ano'] = df['datahora'].dt.year\n",
        "\n",
        "df['mes'] = df['datahora'].dt.month\n",
        "\n",
        "df['hora'] = df['datahora'].dt.hour"
      ]
    },
    {
      "cell_type": "code",
      "execution_count": 13,
      "metadata": {
        "id": "0a1sV5i0xUvR",
        "colab": {
          "base_uri": "https://localhost:8080/",
          "height": 400
        },
        "outputId": "1bf7a773-b4e8-4fca-c09d-8db331dfe84b"
      },
      "outputs": [
        {
          "output_type": "execute_result",
          "data": {
            "text/plain": [
              "             datahora               estado municipio           bioma  \\\n",
              "0 2011-01-01 04:33:00            SAO PAULO   ITUPEVA  Mata Atlantica   \n",
              "1 2011-01-01 09:05:48  RIO GRANDE DO NORTE    TOUROS        Caatinga   \n",
              "2 2011-01-01 12:45:00                BAHIA    GLORIA        Caatinga   \n",
              "3 2011-01-01 12:45:00                BAHIA    GLORIA        Caatinga   \n",
              "4 2011-01-01 13:00:00           PERNAMBUCO  FLORESTA        Caatinga   \n",
              "\n",
              "   diasemchuva  precipitacao  riscofogo  latitude  longitude  dia   ano  mes  \\\n",
              "0          NaN           NaN        NaN -23.14400  -47.11800    1  2011    1   \n",
              "1          NaN           NaN        NaN  -5.32167  -35.62667    1  2011    1   \n",
              "2          NaN           NaN        NaN  -9.03354  -38.32000    1  2011    1   \n",
              "3          NaN           NaN        NaN  -9.00355  -38.33000    1  2011    1   \n",
              "4          NaN           NaN        NaN  -8.81357  -38.53000    1  2011    1   \n",
              "\n",
              "   hora  \n",
              "0     4  \n",
              "1     9  \n",
              "2    12  \n",
              "3    12  \n",
              "4    13  "
            ],
            "text/html": [
              "\n",
              "  <div id=\"df-ec10eaf6-5e41-4b52-9f0e-6d7eb1a20562\" class=\"colab-df-container\">\n",
              "    <div>\n",
              "<style scoped>\n",
              "    .dataframe tbody tr th:only-of-type {\n",
              "        vertical-align: middle;\n",
              "    }\n",
              "\n",
              "    .dataframe tbody tr th {\n",
              "        vertical-align: top;\n",
              "    }\n",
              "\n",
              "    .dataframe thead th {\n",
              "        text-align: right;\n",
              "    }\n",
              "</style>\n",
              "<table border=\"1\" class=\"dataframe\">\n",
              "  <thead>\n",
              "    <tr style=\"text-align: right;\">\n",
              "      <th></th>\n",
              "      <th>datahora</th>\n",
              "      <th>estado</th>\n",
              "      <th>municipio</th>\n",
              "      <th>bioma</th>\n",
              "      <th>diasemchuva</th>\n",
              "      <th>precipitacao</th>\n",
              "      <th>riscofogo</th>\n",
              "      <th>latitude</th>\n",
              "      <th>longitude</th>\n",
              "      <th>dia</th>\n",
              "      <th>ano</th>\n",
              "      <th>mes</th>\n",
              "      <th>hora</th>\n",
              "    </tr>\n",
              "  </thead>\n",
              "  <tbody>\n",
              "    <tr>\n",
              "      <th>0</th>\n",
              "      <td>2011-01-01 04:33:00</td>\n",
              "      <td>SAO PAULO</td>\n",
              "      <td>ITUPEVA</td>\n",
              "      <td>Mata Atlantica</td>\n",
              "      <td>NaN</td>\n",
              "      <td>NaN</td>\n",
              "      <td>NaN</td>\n",
              "      <td>-23.14400</td>\n",
              "      <td>-47.11800</td>\n",
              "      <td>1</td>\n",
              "      <td>2011</td>\n",
              "      <td>1</td>\n",
              "      <td>4</td>\n",
              "    </tr>\n",
              "    <tr>\n",
              "      <th>1</th>\n",
              "      <td>2011-01-01 09:05:48</td>\n",
              "      <td>RIO GRANDE DO NORTE</td>\n",
              "      <td>TOUROS</td>\n",
              "      <td>Caatinga</td>\n",
              "      <td>NaN</td>\n",
              "      <td>NaN</td>\n",
              "      <td>NaN</td>\n",
              "      <td>-5.32167</td>\n",
              "      <td>-35.62667</td>\n",
              "      <td>1</td>\n",
              "      <td>2011</td>\n",
              "      <td>1</td>\n",
              "      <td>9</td>\n",
              "    </tr>\n",
              "    <tr>\n",
              "      <th>2</th>\n",
              "      <td>2011-01-01 12:45:00</td>\n",
              "      <td>BAHIA</td>\n",
              "      <td>GLORIA</td>\n",
              "      <td>Caatinga</td>\n",
              "      <td>NaN</td>\n",
              "      <td>NaN</td>\n",
              "      <td>NaN</td>\n",
              "      <td>-9.03354</td>\n",
              "      <td>-38.32000</td>\n",
              "      <td>1</td>\n",
              "      <td>2011</td>\n",
              "      <td>1</td>\n",
              "      <td>12</td>\n",
              "    </tr>\n",
              "    <tr>\n",
              "      <th>3</th>\n",
              "      <td>2011-01-01 12:45:00</td>\n",
              "      <td>BAHIA</td>\n",
              "      <td>GLORIA</td>\n",
              "      <td>Caatinga</td>\n",
              "      <td>NaN</td>\n",
              "      <td>NaN</td>\n",
              "      <td>NaN</td>\n",
              "      <td>-9.00355</td>\n",
              "      <td>-38.33000</td>\n",
              "      <td>1</td>\n",
              "      <td>2011</td>\n",
              "      <td>1</td>\n",
              "      <td>12</td>\n",
              "    </tr>\n",
              "    <tr>\n",
              "      <th>4</th>\n",
              "      <td>2011-01-01 13:00:00</td>\n",
              "      <td>PERNAMBUCO</td>\n",
              "      <td>FLORESTA</td>\n",
              "      <td>Caatinga</td>\n",
              "      <td>NaN</td>\n",
              "      <td>NaN</td>\n",
              "      <td>NaN</td>\n",
              "      <td>-8.81357</td>\n",
              "      <td>-38.53000</td>\n",
              "      <td>1</td>\n",
              "      <td>2011</td>\n",
              "      <td>1</td>\n",
              "      <td>13</td>\n",
              "    </tr>\n",
              "  </tbody>\n",
              "</table>\n",
              "</div>\n",
              "    <div class=\"colab-df-buttons\">\n",
              "\n",
              "  <div class=\"colab-df-container\">\n",
              "    <button class=\"colab-df-convert\" onclick=\"convertToInteractive('df-ec10eaf6-5e41-4b52-9f0e-6d7eb1a20562')\"\n",
              "            title=\"Convert this dataframe to an interactive table.\"\n",
              "            style=\"display:none;\">\n",
              "\n",
              "  <svg xmlns=\"http://www.w3.org/2000/svg\" height=\"24px\" viewBox=\"0 -960 960 960\">\n",
              "    <path d=\"M120-120v-720h720v720H120Zm60-500h600v-160H180v160Zm220 220h160v-160H400v160Zm0 220h160v-160H400v160ZM180-400h160v-160H180v160Zm440 0h160v-160H620v160ZM180-180h160v-160H180v160Zm440 0h160v-160H620v160Z\"/>\n",
              "  </svg>\n",
              "    </button>\n",
              "\n",
              "  <style>\n",
              "    .colab-df-container {\n",
              "      display:flex;\n",
              "      gap: 12px;\n",
              "    }\n",
              "\n",
              "    .colab-df-convert {\n",
              "      background-color: #E8F0FE;\n",
              "      border: none;\n",
              "      border-radius: 50%;\n",
              "      cursor: pointer;\n",
              "      display: none;\n",
              "      fill: #1967D2;\n",
              "      height: 32px;\n",
              "      padding: 0 0 0 0;\n",
              "      width: 32px;\n",
              "    }\n",
              "\n",
              "    .colab-df-convert:hover {\n",
              "      background-color: #E2EBFA;\n",
              "      box-shadow: 0px 1px 2px rgba(60, 64, 67, 0.3), 0px 1px 3px 1px rgba(60, 64, 67, 0.15);\n",
              "      fill: #174EA6;\n",
              "    }\n",
              "\n",
              "    .colab-df-buttons div {\n",
              "      margin-bottom: 4px;\n",
              "    }\n",
              "\n",
              "    [theme=dark] .colab-df-convert {\n",
              "      background-color: #3B4455;\n",
              "      fill: #D2E3FC;\n",
              "    }\n",
              "\n",
              "    [theme=dark] .colab-df-convert:hover {\n",
              "      background-color: #434B5C;\n",
              "      box-shadow: 0px 1px 3px 1px rgba(0, 0, 0, 0.15);\n",
              "      filter: drop-shadow(0px 1px 2px rgba(0, 0, 0, 0.3));\n",
              "      fill: #FFFFFF;\n",
              "    }\n",
              "  </style>\n",
              "\n",
              "    <script>\n",
              "      const buttonEl =\n",
              "        document.querySelector('#df-ec10eaf6-5e41-4b52-9f0e-6d7eb1a20562 button.colab-df-convert');\n",
              "      buttonEl.style.display =\n",
              "        google.colab.kernel.accessAllowed ? 'block' : 'none';\n",
              "\n",
              "      async function convertToInteractive(key) {\n",
              "        const element = document.querySelector('#df-ec10eaf6-5e41-4b52-9f0e-6d7eb1a20562');\n",
              "        const dataTable =\n",
              "          await google.colab.kernel.invokeFunction('convertToInteractive',\n",
              "                                                    [key], {});\n",
              "        if (!dataTable) return;\n",
              "\n",
              "        const docLinkHtml = 'Like what you see? Visit the ' +\n",
              "          '<a target=\"_blank\" href=https://colab.research.google.com/notebooks/data_table.ipynb>data table notebook</a>'\n",
              "          + ' to learn more about interactive tables.';\n",
              "        element.innerHTML = '';\n",
              "        dataTable['output_type'] = 'display_data';\n",
              "        await google.colab.output.renderOutput(dataTable, element);\n",
              "        const docLink = document.createElement('div');\n",
              "        docLink.innerHTML = docLinkHtml;\n",
              "        element.appendChild(docLink);\n",
              "      }\n",
              "    </script>\n",
              "  </div>\n",
              "\n",
              "\n",
              "<div id=\"df-b2a1358f-fb6e-4355-ad6b-a416962ee209\">\n",
              "  <button class=\"colab-df-quickchart\" onclick=\"quickchart('df-b2a1358f-fb6e-4355-ad6b-a416962ee209')\"\n",
              "            title=\"Suggest charts\"\n",
              "            style=\"display:none;\">\n",
              "\n",
              "<svg xmlns=\"http://www.w3.org/2000/svg\" height=\"24px\"viewBox=\"0 0 24 24\"\n",
              "     width=\"24px\">\n",
              "    <g>\n",
              "        <path d=\"M19 3H5c-1.1 0-2 .9-2 2v14c0 1.1.9 2 2 2h14c1.1 0 2-.9 2-2V5c0-1.1-.9-2-2-2zM9 17H7v-7h2v7zm4 0h-2V7h2v10zm4 0h-2v-4h2v4z\"/>\n",
              "    </g>\n",
              "</svg>\n",
              "  </button>\n",
              "\n",
              "<style>\n",
              "  .colab-df-quickchart {\n",
              "      --bg-color: #E8F0FE;\n",
              "      --fill-color: #1967D2;\n",
              "      --hover-bg-color: #E2EBFA;\n",
              "      --hover-fill-color: #174EA6;\n",
              "      --disabled-fill-color: #AAA;\n",
              "      --disabled-bg-color: #DDD;\n",
              "  }\n",
              "\n",
              "  [theme=dark] .colab-df-quickchart {\n",
              "      --bg-color: #3B4455;\n",
              "      --fill-color: #D2E3FC;\n",
              "      --hover-bg-color: #434B5C;\n",
              "      --hover-fill-color: #FFFFFF;\n",
              "      --disabled-bg-color: #3B4455;\n",
              "      --disabled-fill-color: #666;\n",
              "  }\n",
              "\n",
              "  .colab-df-quickchart {\n",
              "    background-color: var(--bg-color);\n",
              "    border: none;\n",
              "    border-radius: 50%;\n",
              "    cursor: pointer;\n",
              "    display: none;\n",
              "    fill: var(--fill-color);\n",
              "    height: 32px;\n",
              "    padding: 0;\n",
              "    width: 32px;\n",
              "  }\n",
              "\n",
              "  .colab-df-quickchart:hover {\n",
              "    background-color: var(--hover-bg-color);\n",
              "    box-shadow: 0 1px 2px rgba(60, 64, 67, 0.3), 0 1px 3px 1px rgba(60, 64, 67, 0.15);\n",
              "    fill: var(--button-hover-fill-color);\n",
              "  }\n",
              "\n",
              "  .colab-df-quickchart-complete:disabled,\n",
              "  .colab-df-quickchart-complete:disabled:hover {\n",
              "    background-color: var(--disabled-bg-color);\n",
              "    fill: var(--disabled-fill-color);\n",
              "    box-shadow: none;\n",
              "  }\n",
              "\n",
              "  .colab-df-spinner {\n",
              "    border: 2px solid var(--fill-color);\n",
              "    border-color: transparent;\n",
              "    border-bottom-color: var(--fill-color);\n",
              "    animation:\n",
              "      spin 1s steps(1) infinite;\n",
              "  }\n",
              "\n",
              "  @keyframes spin {\n",
              "    0% {\n",
              "      border-color: transparent;\n",
              "      border-bottom-color: var(--fill-color);\n",
              "      border-left-color: var(--fill-color);\n",
              "    }\n",
              "    20% {\n",
              "      border-color: transparent;\n",
              "      border-left-color: var(--fill-color);\n",
              "      border-top-color: var(--fill-color);\n",
              "    }\n",
              "    30% {\n",
              "      border-color: transparent;\n",
              "      border-left-color: var(--fill-color);\n",
              "      border-top-color: var(--fill-color);\n",
              "      border-right-color: var(--fill-color);\n",
              "    }\n",
              "    40% {\n",
              "      border-color: transparent;\n",
              "      border-right-color: var(--fill-color);\n",
              "      border-top-color: var(--fill-color);\n",
              "    }\n",
              "    60% {\n",
              "      border-color: transparent;\n",
              "      border-right-color: var(--fill-color);\n",
              "    }\n",
              "    80% {\n",
              "      border-color: transparent;\n",
              "      border-right-color: var(--fill-color);\n",
              "      border-bottom-color: var(--fill-color);\n",
              "    }\n",
              "    90% {\n",
              "      border-color: transparent;\n",
              "      border-bottom-color: var(--fill-color);\n",
              "    }\n",
              "  }\n",
              "</style>\n",
              "\n",
              "  <script>\n",
              "    async function quickchart(key) {\n",
              "      const quickchartButtonEl =\n",
              "        document.querySelector('#' + key + ' button');\n",
              "      quickchartButtonEl.disabled = true;  // To prevent multiple clicks.\n",
              "      quickchartButtonEl.classList.add('colab-df-spinner');\n",
              "      try {\n",
              "        const charts = await google.colab.kernel.invokeFunction(\n",
              "            'suggestCharts', [key], {});\n",
              "      } catch (error) {\n",
              "        console.error('Error during call to suggestCharts:', error);\n",
              "      }\n",
              "      quickchartButtonEl.classList.remove('colab-df-spinner');\n",
              "      quickchartButtonEl.classList.add('colab-df-quickchart-complete');\n",
              "    }\n",
              "    (() => {\n",
              "      let quickchartButtonEl =\n",
              "        document.querySelector('#df-b2a1358f-fb6e-4355-ad6b-a416962ee209 button');\n",
              "      quickchartButtonEl.style.display =\n",
              "        google.colab.kernel.accessAllowed ? 'block' : 'none';\n",
              "    })();\n",
              "  </script>\n",
              "</div>\n",
              "\n",
              "    </div>\n",
              "  </div>\n"
            ],
            "application/vnd.google.colaboratory.intrinsic+json": {
              "type": "dataframe",
              "variable_name": "df_missing"
            }
          },
          "metadata": {},
          "execution_count": 13
        }
      ],
      "source": [
        "df_missing = df[df[['precipitacao', 'riscofogo', 'diasemchuva']].isna().any(axis=1)]\n",
        "df_missing.head()"
      ]
    },
    {
      "cell_type": "code",
      "execution_count": 14,
      "metadata": {
        "id": "Hgpx2f9axUvR",
        "colab": {
          "base_uri": "https://localhost:8080/",
          "height": 493
        },
        "outputId": "e330bc9d-9e5d-4640-c4b5-0bfc6a0be8e7"
      },
      "outputs": [
        {
          "output_type": "display_data",
          "data": {
            "text/plain": [
              "<Figure size 640x480 with 1 Axes>"
            ],
            "image/png": "[encoded data removed]"
          },
          "metadata": {}
        }
      ],
      "source": [
        "df_missing.groupby(df['datahora'].dt.year).size().plot(kind='bar', title='Dados Faltantes por Ano')\n",
        "\n",
        "plt.show()"
      ]
    },
    {
      "cell_type": "markdown",
      "metadata": {
        "id": "cvIhGGKlxUvS"
      },
      "source": [
        ">Considerando o grande volume de dados e a expressiva quantidade de informações ausentes, especialmente em registros anteriores a 2017, optei por restringir a análise ao período de 2017 a 2021, de modo a garantir uma maior consistência dos dados."
      ]
    },
    {
      "cell_type": "code",
      "execution_count": 15,
      "metadata": {
        "id": "1_Fx_I22xUvS"
      },
      "outputs": [],
      "source": [
        "df = df[df['datahora'] >= pd.to_datetime('2017-01-01')]"
      ]
    },
    {
      "cell_type": "code",
      "execution_count": 16,
      "metadata": {
        "id": "ZWfJUwKfxUvS",
        "colab": {
          "base_uri": "https://localhost:8080/",
          "height": 492
        },
        "outputId": "7d2d0018-f409-43ad-b72d-d7ecca0ab2e8"
      },
      "outputs": [
        {
          "output_type": "execute_result",
          "data": {
            "text/plain": [
              "datahora             0\n",
              "estado               0\n",
              "municipio            0\n",
              "bioma              973\n",
              "diasemchuva     475664\n",
              "precipitacao    475664\n",
              "riscofogo       475664\n",
              "latitude             0\n",
              "longitude            0\n",
              "dia                  0\n",
              "ano                  0\n",
              "mes                  0\n",
              "hora                 0\n",
              "dtype: int64"
            ],
            "text/html": [
              "<div>\n",
              "<style scoped>\n",
              "    .dataframe tbody tr th:only-of-type {\n",
              "        vertical-align: middle;\n",
              "    }\n",
              "\n",
              "    .dataframe tbody tr th {\n",
              "        vertical-align: top;\n",
              "    }\n",
              "\n",
              "    .dataframe thead th {\n",
              "        text-align: right;\n",
              "    }\n",
              "</style>\n",
              "<table border=\"1\" class=\"dataframe\">\n",
              "  <thead>\n",
              "    <tr style=\"text-align: right;\">\n",
              "      <th></th>\n",
              "      <th>0</th>\n",
              "    </tr>\n",
              "  </thead>\n",
              "  <tbody>\n",
              "    <tr>\n",
              "      <th>datahora</th>\n",
              "      <td>0</td>\n",
              "    </tr>\n",
              "    <tr>\n",
              "      <th>estado</th>\n",
              "      <td>0</td>\n",
              "    </tr>\n",
              "    <tr>\n",
              "      <th>municipio</th>\n",
              "      <td>0</td>\n",
              "    </tr>\n",
              "    <tr>\n",
              "      <th>bioma</th>\n",
              "      <td>973</td>\n",
              "    </tr>\n",
              "    <tr>\n",
              "      <th>diasemchuva</th>\n",
              "      <td>475664</td>\n",
              "    </tr>\n",
              "    <tr>\n",
              "      <th>precipitacao</th>\n",
              "      <td>475664</td>\n",
              "    </tr>\n",
              "    <tr>\n",
              "      <th>riscofogo</th>\n",
              "      <td>475664</td>\n",
              "    </tr>\n",
              "    <tr>\n",
              "      <th>latitude</th>\n",
              "      <td>0</td>\n",
              "    </tr>\n",
              "    <tr>\n",
              "      <th>longitude</th>\n",
              "      <td>0</td>\n",
              "    </tr>\n",
              "    <tr>\n",
              "      <th>dia</th>\n",
              "      <td>0</td>\n",
              "    </tr>\n",
              "    <tr>\n",
              "      <th>ano</th>\n",
              "      <td>0</td>\n",
              "    </tr>\n",
              "    <tr>\n",
              "      <th>mes</th>\n",
              "      <td>0</td>\n",
              "    </tr>\n",
              "    <tr>\n",
              "      <th>hora</th>\n",
              "      <td>0</td>\n",
              "    </tr>\n",
              "  </tbody>\n",
              "</table>\n",
              "</div><br><label><b>dtype:</b> int64</label>"
            ]
          },
          "metadata": {},
          "execution_count": 16
        }
      ],
      "source": [
        "df.isnull().sum()"
      ]
    },
    {
      "cell_type": "code",
      "execution_count": 17,
      "metadata": {
        "id": "hguGvsTUxUvS",
        "colab": {
          "base_uri": "https://localhost:8080/"
        },
        "outputId": "a90ccbfc-9d5d-4b9e-f4a0-dce9937f5980"
      },
      "outputs": [
        {
          "output_type": "execute_result",
          "data": {
            "text/plain": [
              "(18307829, 13)"
            ]
          },
          "metadata": {},
          "execution_count": 17
        }
      ],
      "source": [
        "df.shape"
      ]
    },
    {
      "cell_type": "markdown",
      "metadata": {
        "id": "XWxUlWQ3xUvT"
      },
      "source": [
        "* Traratamento de dados faltantes de Biomas\n"
      ]
    },
    {
      "cell_type": "markdown",
      "metadata": {
        "id": "z0LzfbOjxUvT"
      },
      "source": [
        "---"
      ]
    },
    {
      "cell_type": "markdown",
      "metadata": {
        "id": "eCcNL8fRxUvT"
      },
      "source": [
        ">Para tratar os dados faltantes relacionados ao bioma de uma forma eficaz, consideraderei a disponibilidade de informações de latitude e longitude, com o objetivo de identificar a localidade mais próxima e assumir que pertence ao mesmo bioma. Contudo, devido ao grande volume de dados, optei por uma solução que foi agrupar as informações por estado. Assim, a localidade mais próxima será considerada dentro do mesmo estado, facilitando a identificação do bioma adequado."
      ]
    },
    {
      "cell_type": "code",
      "execution_count": 18,
      "metadata": {
        "id": "VSGlCBF8xUvU"
      },
      "outputs": [],
      "source": [
        "df_unico = df.drop_duplicates(subset=['municipio', 'estado', 'bioma'])\n",
        "\n",
        "df_unico['municipio'] = df_unico['municipio'].str.upper()\n",
        "df_unico['estado'] = df_unico['estado'].str.upper()\n",
        "\n",
        "df_unico = df_unico[['municipio', 'estado', 'bioma', 'latitude', 'longitude']]\n",
        "\n",
        "cidades_com_bioma = df_unico[df_unico['bioma'].notnull()]\n",
        "cidades_sem_bioma = df_unico[df_unico['bioma'].isnull()]"
      ]
    },
    {
      "cell_type": "code",
      "execution_count": 19,
      "metadata": {
        "id": "S1nwePB7xUvU"
      },
      "outputs": [],
      "source": [
        "def preencher_bioma_por_estado(df_sem_bioma, df_com_bioma):\n",
        "\n",
        "    df_sem_bioma_grouped = df_sem_bioma.groupby('estado')\n",
        "    df_com_bioma_grouped = df_com_bioma.groupby('estado')\n",
        "\n",
        "    for estado, group_sem_bioma in df_sem_bioma_grouped:\n",
        "\n",
        "        if estado in df_com_bioma_grouped.groups:\n",
        "            group_com_bioma = df_com_bioma_grouped.get_group(estado)\n",
        "\n",
        "            for i, row in group_sem_bioma.iterrows():\n",
        "                cidade_atual = (row['latitude'], row['longitude'])\n",
        "                menor_distancia = np.inf\n",
        "                bioma_mais_proximo = None\n",
        "\n",
        "\n",
        "                for j, row_vizinha in group_com_bioma.iterrows():\n",
        "                    cidade_vizinha = (row_vizinha['latitude'], row_vizinha['longitude'])\n",
        "                    distancia = geodesic(cidade_atual, cidade_vizinha).kilometers\n",
        "\n",
        "                    if distancia < menor_distancia:\n",
        "                        menor_distancia = distancia\n",
        "                        bioma_mais_proximo = row_vizinha['bioma']\n",
        "\n",
        "\n",
        "                df_sem_bioma.at[i, 'bioma'] = bioma_mais_proximo\n",
        "\n",
        "\n",
        "    return df_sem_bioma\n",
        "\n",
        "\n",
        "df_sem_bioma_preenchido = preencher_bioma_por_estado(cidades_sem_bioma, cidades_com_bioma)"
      ]
    },
    {
      "cell_type": "code",
      "execution_count": 20,
      "metadata": {
        "id": "SByeiALSxUvU"
      },
      "outputs": [],
      "source": [
        "df['estado'] = df['estado'].str.upper()\n",
        "df['municipio'] = df['municipio'].str.upper()\n",
        "\n",
        "df_sem_bioma_preenchido['estado'] = df_sem_bioma_preenchido['estado'].str.upper()\n",
        "df_sem_bioma_preenchido['municipio'] = df_sem_bioma_preenchido['municipio'].str.upper()\n",
        "\n",
        "df_merge = df.merge(df_sem_bioma_preenchido[['estado', 'municipio', 'bioma']],\n",
        "                      on=['estado', 'municipio'],\n",
        "                      how='left',\n",
        "                      suffixes=('', '_preenchido'))\n"
      ]
    },
    {
      "cell_type": "code",
      "execution_count": 21,
      "metadata": {
        "id": "hsg6pBotxUvU"
      },
      "outputs": [],
      "source": [
        "df_merge['bioma'] = df_merge['bioma'].fillna(df_merge['bioma_preenchido'])\n",
        "df = df_merge.drop(columns=['bioma_preenchido'])"
      ]
    },
    {
      "cell_type": "code",
      "source": [
        "df.to_csv('queimadas_tratado.csv', index=False)"
      ],
      "metadata": {
        "id": "H9SkFbGd3Hvr"
      },
      "execution_count": 22,
      "outputs": []
    },
    {
      "cell_type": "code",
      "execution_count": 23,
      "metadata": {
        "colab": {
          "base_uri": "https://localhost:8080/"
        },
        "id": "W3nYtZioepus",
        "outputId": "2dafa6b4-e886-4e17-b0bf-aa6dc2b53653"
      },
      "outputs": [
        {
          "output_type": "execute_result",
          "data": {
            "text/plain": [
              "3937"
            ]
          },
          "metadata": {},
          "execution_count": 23
        }
      ],
      "source": [
        "del df_merge\n",
        "del df_sem_bioma_preenchido\n",
        "del df_unico\n",
        "del df_missing\n",
        "del cidades_com_bioma\n",
        "del cidades_sem_bioma\n",
        "del df\n",
        "gc.collect()"
      ]
    },
    {
      "cell_type": "code",
      "source": [
        "for var in list(globals().keys()):\n",
        "    if var.endswith('_result'):\n",
        "        del globals()[var]\n",
        "\n",
        "gc.collect()"
      ],
      "metadata": {
        "colab": {
          "base_uri": "https://localhost:8080/"
        },
        "id": "nU17mhv4ENbN",
        "outputId": "5a1e171a-47cd-4b9f-ee6e-a761236f3182"
      },
      "execution_count": 24,
      "outputs": [
        {
          "output_type": "execute_result",
          "data": {
            "text/plain": [
              "0"
            ]
          },
          "metadata": {},
          "execution_count": 24
        }
      ]
    },
    {
      "cell_type": "code",
      "source": [
        "df = pd.read_csv('queimadas_tratado.csv')"
      ],
      "metadata": {
        "id": "OwTpF5-l7aRD"
      },
      "execution_count": 25,
      "outputs": []
    },
    {
      "cell_type": "code",
      "execution_count": 26,
      "metadata": {
        "colab": {
          "base_uri": "https://localhost:8080/",
          "height": 492
        },
        "id": "C5ms1JPIxUvV",
        "outputId": "25e0242d-4d4c-4635-b3b3-6eeb500be3e8"
      },
      "outputs": [
        {
          "output_type": "execute_result",
          "data": {
            "text/plain": [
              "datahora             0\n",
              "estado               0\n",
              "municipio            0\n",
              "bioma                0\n",
              "diasemchuva     475664\n",
              "precipitacao    475664\n",
              "riscofogo       475664\n",
              "latitude             0\n",
              "longitude            0\n",
              "dia                  0\n",
              "ano                  0\n",
              "mes                  0\n",
              "hora                 0\n",
              "dtype: int64"
            ],
            "text/html": [
              "<div>\n",
              "<style scoped>\n",
              "    .dataframe tbody tr th:only-of-type {\n",
              "        vertical-align: middle;\n",
              "    }\n",
              "\n",
              "    .dataframe tbody tr th {\n",
              "        vertical-align: top;\n",
              "    }\n",
              "\n",
              "    .dataframe thead th {\n",
              "        text-align: right;\n",
              "    }\n",
              "</style>\n",
              "<table border=\"1\" class=\"dataframe\">\n",
              "  <thead>\n",
              "    <tr style=\"text-align: right;\">\n",
              "      <th></th>\n",
              "      <th>0</th>\n",
              "    </tr>\n",
              "  </thead>\n",
              "  <tbody>\n",
              "    <tr>\n",
              "      <th>datahora</th>\n",
              "      <td>0</td>\n",
              "    </tr>\n",
              "    <tr>\n",
              "      <th>estado</th>\n",
              "      <td>0</td>\n",
              "    </tr>\n",
              "    <tr>\n",
              "      <th>municipio</th>\n",
              "      <td>0</td>\n",
              "    </tr>\n",
              "    <tr>\n",
              "      <th>bioma</th>\n",
              "      <td>0</td>\n",
              "    </tr>\n",
              "    <tr>\n",
              "      <th>diasemchuva</th>\n",
              "      <td>475664</td>\n",
              "    </tr>\n",
              "    <tr>\n",
              "      <th>precipitacao</th>\n",
              "      <td>475664</td>\n",
              "    </tr>\n",
              "    <tr>\n",
              "      <th>riscofogo</th>\n",
              "      <td>475664</td>\n",
              "    </tr>\n",
              "    <tr>\n",
              "      <th>latitude</th>\n",
              "      <td>0</td>\n",
              "    </tr>\n",
              "    <tr>\n",
              "      <th>longitude</th>\n",
              "      <td>0</td>\n",
              "    </tr>\n",
              "    <tr>\n",
              "      <th>dia</th>\n",
              "      <td>0</td>\n",
              "    </tr>\n",
              "    <tr>\n",
              "      <th>ano</th>\n",
              "      <td>0</td>\n",
              "    </tr>\n",
              "    <tr>\n",
              "      <th>mes</th>\n",
              "      <td>0</td>\n",
              "    </tr>\n",
              "    <tr>\n",
              "      <th>hora</th>\n",
              "      <td>0</td>\n",
              "    </tr>\n",
              "  </tbody>\n",
              "</table>\n",
              "</div><br><label><b>dtype:</b> int64</label>"
            ]
          },
          "metadata": {},
          "execution_count": 26
        }
      ],
      "source": [
        "df.isnull().sum()"
      ]
    },
    {
      "cell_type": "markdown",
      "metadata": {
        "id": "KUcBYpevxUvV"
      },
      "source": [
        "* Análise de Anomalias: Valores Negativos Inesperados"
      ]
    },
    {
      "cell_type": "markdown",
      "metadata": {
        "id": "OgdIwDOexUvV"
      },
      "source": [
        "---"
      ]
    },
    {
      "cell_type": "code",
      "execution_count": 27,
      "metadata": {
        "colab": {
          "base_uri": "https://localhost:8080/",
          "height": 178
        },
        "id": "PaSBtueexUvV",
        "outputId": "e2964cf1-2f74-4867-d472-a12f1bcbc003"
      },
      "outputs": [
        {
          "output_type": "execute_result",
          "data": {
            "text/plain": [
              "diasemchuva      75899\n",
              "precipitacao         0\n",
              "riscofogo       152273\n",
              "dtype: int64"
            ],
            "text/html": [
              "<div>\n",
              "<style scoped>\n",
              "    .dataframe tbody tr th:only-of-type {\n",
              "        vertical-align: middle;\n",
              "    }\n",
              "\n",
              "    .dataframe tbody tr th {\n",
              "        vertical-align: top;\n",
              "    }\n",
              "\n",
              "    .dataframe thead th {\n",
              "        text-align: right;\n",
              "    }\n",
              "</style>\n",
              "<table border=\"1\" class=\"dataframe\">\n",
              "  <thead>\n",
              "    <tr style=\"text-align: right;\">\n",
              "      <th></th>\n",
              "      <th>0</th>\n",
              "    </tr>\n",
              "  </thead>\n",
              "  <tbody>\n",
              "    <tr>\n",
              "      <th>diasemchuva</th>\n",
              "      <td>75899</td>\n",
              "    </tr>\n",
              "    <tr>\n",
              "      <th>precipitacao</th>\n",
              "      <td>0</td>\n",
              "    </tr>\n",
              "    <tr>\n",
              "      <th>riscofogo</th>\n",
              "      <td>152273</td>\n",
              "    </tr>\n",
              "  </tbody>\n",
              "</table>\n",
              "</div><br><label><b>dtype:</b> int64</label>"
            ]
          },
          "metadata": {},
          "execution_count": 27
        }
      ],
      "source": [
        "colunas_especificas = ['diasemchuva', 'precipitacao', 'riscofogo']\n",
        "contagem_negativos = (df[colunas_especificas] < 0).sum()\n",
        "contagem_negativos"
      ]
    },
    {
      "cell_type": "markdown",
      "metadata": {
        "id": "95GVo2SdxUvW"
      },
      "source": [
        "* Traratamento de dados faltantes de Risco de Fogo"
      ]
    },
    {
      "cell_type": "markdown",
      "metadata": {
        "id": "IfmE54BoxUvW"
      },
      "source": [
        "---"
      ]
    },
    {
      "cell_type": "markdown",
      "metadata": {
        "id": "NIpxmQHpxUvW"
      },
      "source": [
        ">Para a variável risco de fogo, decidir transformar os valores negativos em dados ausentes, pois esses valores não são válidos dentro do contexto do risco de incêndio.\n",
        "\n",
        ">Além disso, para lidar com os dados ausentes resultantes dessa transformação, apliquei uma distribuição normal aos valores do risco de fogo, por se tratar de dados contínuos, seguem essa distribuição, caracterizada pela média e pelo desvio padrão. Isso permite que os dados ausentes sejam preenchidos de forma estatisticamente coerente, preservando a integridade dos dados e facilitando análises posteriores sobre os padrões de risco de incêndio nas regiões analisadas."
      ]
    },
    {
      "cell_type": "code",
      "execution_count": 28,
      "metadata": {
        "id": "6qFSECQexUvW"
      },
      "outputs": [],
      "source": [
        "df.loc[df['riscofogo'] < 0, 'riscofogo'] = np.nan"
      ]
    },
    {
      "cell_type": "code",
      "execution_count": 29,
      "metadata": {
        "id": "N91kg2N7xUvf"
      },
      "outputs": [],
      "source": [
        "def preencher_grupo(grupo):\n",
        "    mean = grupo['riscofogo'].mean()\n",
        "    std_dev = grupo['riscofogo'].std()\n",
        "\n",
        "    n_missing = grupo['riscofogo'].isna().sum()\n",
        "    if n_missing > 0:\n",
        "        lower_bound = 0\n",
        "        upper_bound = np.inf\n",
        "\n",
        "        a, b = (lower_bound - mean) / std_dev, (upper_bound - mean) / std_dev\n",
        "\n",
        "        valores_preenchidos = truncnorm.rvs(a, b, loc=mean, scale=std_dev, size=n_missing)\n",
        "\n",
        "        grupo.loc[grupo['riscofogo'].isna(), 'riscofogo'] = valores_preenchidos\n",
        "    return grupo\n",
        "\n",
        "df = df.groupby(['estado', 'bioma']).apply(preencher_grupo).reset_index(drop=True)\n"
      ]
    },
    {
      "cell_type": "code",
      "execution_count": 30,
      "metadata": {
        "id": "nbrxvqwlxUvf",
        "colab": {
          "base_uri": "https://localhost:8080/"
        },
        "outputId": "ade246ec-f052-4686-e298-e5b039d347f2"
      },
      "outputs": [
        {
          "output_type": "execute_result",
          "data": {
            "text/plain": [
              "0"
            ]
          },
          "metadata": {},
          "execution_count": 30
        }
      ],
      "source": [
        "df['riscofogo'].isnull().sum()"
      ]
    },
    {
      "cell_type": "code",
      "execution_count": 31,
      "metadata": {
        "id": "u-VIevMgxUvg",
        "colab": {
          "base_uri": "https://localhost:8080/"
        },
        "outputId": "afb68e1c-a5d9-4f84-f542-3e8b6718f0fa"
      },
      "outputs": [
        {
          "output_type": "execute_result",
          "data": {
            "text/plain": [
              "0"
            ]
          },
          "metadata": {},
          "execution_count": 31
        }
      ],
      "source": [
        "contagem_negativos = (df['riscofogo'] < 0).sum()\n",
        "contagem_negativos"
      ]
    },
    {
      "cell_type": "code",
      "source": [
        "df.to_csv('queimadas_tratado_2.csv', index=False)"
      ],
      "metadata": {
        "id": "9iTDyoAT_NVH"
      },
      "execution_count": 32,
      "outputs": []
    },
    {
      "cell_type": "code",
      "source": [
        "del contagem_negativos\n",
        "del colunas_especificas\n",
        "del df\n",
        "gc.collect()"
      ],
      "metadata": {
        "colab": {
          "base_uri": "https://localhost:8080/"
        },
        "id": "xDNXdNdf9_xD",
        "outputId": "8f8d8546-a48f-4be2-e77c-dc53002fdf03"
      },
      "execution_count": 33,
      "outputs": [
        {
          "output_type": "execute_result",
          "data": {
            "text/plain": [
              "0"
            ]
          },
          "metadata": {},
          "execution_count": 33
        }
      ]
    },
    {
      "cell_type": "code",
      "source": [
        "df = pd.read_csv('queimadas_tratado_2.csv')"
      ],
      "metadata": {
        "id": "IvUsz5dY_W29"
      },
      "execution_count": 34,
      "outputs": []
    },
    {
      "cell_type": "markdown",
      "metadata": {
        "id": "HXBuaLMpxUvg"
      },
      "source": [
        "* Traratamento de dados faltantes de Dias sem Chuvas"
      ]
    },
    {
      "cell_type": "markdown",
      "metadata": {
        "id": "kkffvx8xxUvh"
      },
      "source": [
        "---"
      ]
    },
    {
      "cell_type": "markdown",
      "metadata": {
        "id": "m_3ve5ZYxUvh"
      },
      "source": [
        "> Para tratar os dados referentes aos dias sem chuva, transformei os valores negativos em dados ausentes, uma vez que esses valores não têm relevância no contexto da análise. Em relação aos dados ausentes, optei por preenchê-los utilizando a média do mês correspondente, considerando o estado e o bioma em questão. Dessa forma, foi possivel assegurar que a imputação refletisse as características climáticas da região.\n",
        "\n",
        "> No entanto, ainda restaram dados faltantes após essa etapa. Para esses casos remanescentes, foi utilizado a média do mês para o mesmo bioma, garantindo assim que a abordagem de preenchimento fosse consistente e representativa das condições climáticas específicas do bioma em análise."
      ]
    },
    {
      "cell_type": "code",
      "execution_count": 35,
      "metadata": {
        "id": "JMiezQCFxUvh"
      },
      "outputs": [],
      "source": [
        "df.loc[df['diasemchuva'] < 0, 'diasemchuva'] = np.nan\n",
        "\n",
        "def preencher_diasemchuva(grupo):\n",
        "    mean = grupo['diasemchuva'].mean()\n",
        "    grupo.loc[grupo['diasemchuva'].isna(), 'diasemchuva'] = mean\n",
        "    return grupo\n",
        "\n",
        "df = df.groupby(['mes', 'ano', 'estado', 'bioma']).apply(preencher_diasemchuva).reset_index(drop=True)\n",
        "\n",
        "df = df.groupby(['mes', 'ano', 'bioma']).apply(preencher_diasemchuva).reset_index(drop=True)\n",
        "\n"
      ]
    },
    {
      "cell_type": "code",
      "execution_count": 36,
      "metadata": {
        "id": "ATVKKWb-xUvi",
        "colab": {
          "base_uri": "https://localhost:8080/",
          "height": 462
        },
        "outputId": "e7c0e477-0932-4bbc-aaff-f0e256e41231"
      },
      "outputs": [
        {
          "output_type": "execute_result",
          "data": {
            "text/plain": [
              "<Axes: >"
            ]
          },
          "metadata": {},
          "execution_count": 36
        },
        {
          "output_type": "display_data",
          "data": {
            "text/plain": [
              "<Figure size 640x480 with 1 Axes>"
            ],
            "image/png": "[encoded data removed]"
          },
          "metadata": {}
        }
      ],
      "source": [
        "df['diasemchuva'].hist()\n"
      ]
    },
    {
      "cell_type": "code",
      "source": [
        "df.to_csv('queimadas_tratado_3.csv', index=False)"
      ],
      "metadata": {
        "id": "i4fnEpiPAx0b"
      },
      "execution_count": 37,
      "outputs": []
    },
    {
      "cell_type": "code",
      "source": [
        "del df\n",
        "gc.collect()"
      ],
      "metadata": {
        "colab": {
          "base_uri": "https://localhost:8080/"
        },
        "id": "dckJkxGwAb6_",
        "outputId": "9ef3865b-a71e-4cbb-ba3f-b7d7239661a3"
      },
      "execution_count": 38,
      "outputs": [
        {
          "output_type": "execute_result",
          "data": {
            "text/plain": [
              "0"
            ]
          },
          "metadata": {},
          "execution_count": 38
        }
      ]
    },
    {
      "cell_type": "code",
      "source": [
        "df = pd.read_csv('queimadas_tratado_3.csv')"
      ],
      "metadata": {
        "id": "-D8dEuNoA4YV"
      },
      "execution_count": 39,
      "outputs": []
    },
    {
      "cell_type": "markdown",
      "metadata": {
        "id": "jLE2hqV5xUvi"
      },
      "source": [
        "> O gráfico revela a ausência de dados negativos para os dias sem chuva, o que elimina potenciais incoerências. Além disso, demonstra que os incêndios ocorrem com alta frequência em períodos de 0 a 20 dias sem chuva"
      ]
    },
    {
      "cell_type": "markdown",
      "metadata": {
        "id": "GU8qcO5TxUvi"
      },
      "source": [
        "* Traratamento de dados faltantes de Precipitação"
      ]
    },
    {
      "cell_type": "markdown",
      "metadata": {
        "id": "GkhYrJx5xUvi"
      },
      "source": [
        "---"
      ]
    },
    {
      "cell_type": "markdown",
      "metadata": {
        "id": "1DuzyQtGxUvj"
      },
      "source": [
        "> Para tratar os dados ausentes de precipitação, foi preenchido com as medianas dos valores, agrupando os dados por mês, bioma e estado. Essa abordagem é eficaz, pois a mediana é menos suscetível a outliers, proporcionando uma representação robusta das condições típicas de precipitação na região. Assim, garantiu-se que os dados preenchidos fossem consistentes e refletissem adequadamente as características climáticas específicas do bioma em questão."
      ]
    },
    {
      "cell_type": "code",
      "execution_count": 40,
      "metadata": {
        "id": "U8VOUhKDxUvj"
      },
      "outputs": [],
      "source": [
        "def preencher_diasemchuva(grupo):\n",
        "    mean = grupo['precipitacao'].mean()\n",
        "    grupo.loc[grupo['precipitacao'].isna(), 'precipitacao'] = mean\n",
        "    return grupo\n",
        "\n",
        "df = df.groupby(['mes', 'ano', 'estado', 'bioma']).apply(preencher_diasemchuva).reset_index(drop=True)\n",
        "\n",
        "df = df.groupby(['mes', 'ano', 'bioma']).apply(preencher_diasemchuva).reset_index(drop=True)"
      ]
    },
    {
      "cell_type": "code",
      "execution_count": 41,
      "metadata": {
        "id": "W0HZD4gAxUvj",
        "colab": {
          "base_uri": "https://localhost:8080/",
          "height": 488
        },
        "outputId": "7063cbdc-0a52-4194-874f-74e25a913b35"
      },
      "outputs": [
        {
          "output_type": "display_data",
          "data": {
            "text/plain": [
              "<Figure size 640x480 with 1 Axes>"
            ],
            "image/png": "[encoded data removed]"
          },
          "metadata": {}
        }
      ],
      "source": [
        "analise = ['precipitacao']\n",
        "df[analise].plot(title='Precipitação ao Longo do Tempo', ylabel='Precipitação (mm)')\n",
        "plt.xticks(rotation=45)\n",
        "plt.grid(False)\n",
        "plt.show()"
      ]
    },
    {
      "cell_type": "markdown",
      "metadata": {
        "id": "vM8e3BOUxUvk"
      },
      "source": [
        ">O gráfico apresentado indica que não há valores negativos de precipitação, além de evidenciar picos significativos ao longo do tempo. Esses picos refletem índices elevados de chuva, mesmo na presença de queimadas."
      ]
    },
    {
      "cell_type": "code",
      "execution_count": 42,
      "metadata": {
        "id": "HP3mOhGsxUvk",
        "colab": {
          "base_uri": "https://localhost:8080/",
          "height": 492
        },
        "outputId": "5c0c780a-9aa0-4392-9950-50130c941f8d"
      },
      "outputs": [
        {
          "output_type": "execute_result",
          "data": {
            "text/plain": [
              "datahora        0\n",
              "estado          0\n",
              "municipio       0\n",
              "bioma           0\n",
              "diasemchuva     0\n",
              "precipitacao    0\n",
              "riscofogo       0\n",
              "latitude        0\n",
              "longitude       0\n",
              "dia             0\n",
              "ano             0\n",
              "mes             0\n",
              "hora            0\n",
              "dtype: int64"
            ],
            "text/html": [
              "<div>\n",
              "<style scoped>\n",
              "    .dataframe tbody tr th:only-of-type {\n",
              "        vertical-align: middle;\n",
              "    }\n",
              "\n",
              "    .dataframe tbody tr th {\n",
              "        vertical-align: top;\n",
              "    }\n",
              "\n",
              "    .dataframe thead th {\n",
              "        text-align: right;\n",
              "    }\n",
              "</style>\n",
              "<table border=\"1\" class=\"dataframe\">\n",
              "  <thead>\n",
              "    <tr style=\"text-align: right;\">\n",
              "      <th></th>\n",
              "      <th>0</th>\n",
              "    </tr>\n",
              "  </thead>\n",
              "  <tbody>\n",
              "    <tr>\n",
              "      <th>datahora</th>\n",
              "      <td>0</td>\n",
              "    </tr>\n",
              "    <tr>\n",
              "      <th>estado</th>\n",
              "      <td>0</td>\n",
              "    </tr>\n",
              "    <tr>\n",
              "      <th>municipio</th>\n",
              "      <td>0</td>\n",
              "    </tr>\n",
              "    <tr>\n",
              "      <th>bioma</th>\n",
              "      <td>0</td>\n",
              "    </tr>\n",
              "    <tr>\n",
              "      <th>diasemchuva</th>\n",
              "      <td>0</td>\n",
              "    </tr>\n",
              "    <tr>\n",
              "      <th>precipitacao</th>\n",
              "      <td>0</td>\n",
              "    </tr>\n",
              "    <tr>\n",
              "      <th>riscofogo</th>\n",
              "      <td>0</td>\n",
              "    </tr>\n",
              "    <tr>\n",
              "      <th>latitude</th>\n",
              "      <td>0</td>\n",
              "    </tr>\n",
              "    <tr>\n",
              "      <th>longitude</th>\n",
              "      <td>0</td>\n",
              "    </tr>\n",
              "    <tr>\n",
              "      <th>dia</th>\n",
              "      <td>0</td>\n",
              "    </tr>\n",
              "    <tr>\n",
              "      <th>ano</th>\n",
              "      <td>0</td>\n",
              "    </tr>\n",
              "    <tr>\n",
              "      <th>mes</th>\n",
              "      <td>0</td>\n",
              "    </tr>\n",
              "    <tr>\n",
              "      <th>hora</th>\n",
              "      <td>0</td>\n",
              "    </tr>\n",
              "  </tbody>\n",
              "</table>\n",
              "</div><br><label><b>dtype:</b> int64</label>"
            ]
          },
          "metadata": {},
          "execution_count": 42
        }
      ],
      "source": [
        "df.isnull().sum()"
      ]
    },
    {
      "cell_type": "code",
      "source": [
        "for var in list(globals().keys()):\n",
        "    if var.endswith('_result'):\n",
        "        del globals()[var]\n",
        "\n",
        "gc.collect()"
      ],
      "metadata": {
        "colab": {
          "base_uri": "https://localhost:8080/"
        },
        "id": "K-BnF7WVHBUe",
        "outputId": "b25145d3-f201-4107-89b7-85b0312e4ef4"
      },
      "execution_count": 43,
      "outputs": [
        {
          "output_type": "execute_result",
          "data": {
            "text/plain": [
              "4084"
            ]
          },
          "metadata": {},
          "execution_count": 43
        }
      ]
    },
    {
      "cell_type": "markdown",
      "metadata": {
        "id": "cwUPzcAtxUvk"
      },
      "source": [
        "**4. Análise exploratória de dados**\n",
        "\n",
        "---"
      ]
    },
    {
      "cell_type": "code",
      "execution_count": 44,
      "metadata": {
        "id": "94kJLB5zxUvl",
        "colab": {
          "base_uri": "https://localhost:8080/",
          "height": 400
        },
        "outputId": "b975a19e-a8f2-4f81-dc7e-adaf5bff309d"
      },
      "outputs": [
        {
          "output_type": "execute_result",
          "data": {
            "text/plain": [
              "              datahora estado       municipio     bioma  diasemchuva  \\\n",
              "0  2017-01-29 23:39:17   ACRE      RIO BRANCO  Amazonia          0.0   \n",
              "1  2017-01-08 17:30:00   ACRE           FEIJO  Amazonia          0.0   \n",
              "2  2017-01-07 18:30:00   ACRE  SENA MADUREIRA  Amazonia          0.0   \n",
              "3  2017-01-02 18:50:00   ACRE  EPITACIOLANDIA  Amazonia          0.0   \n",
              "4  2017-01-04 18:12:00   ACRE          XAPURI  Amazonia          0.0   \n",
              "\n",
              "   precipitacao  riscofogo  latitude  longitude  dia   ano  mes  hora  \n",
              "0          10.5        0.0 -10.37930  -68.92670   29  2017    1    23  \n",
              "1           0.5        0.0  -8.84000  -70.01000    8  2017    1    17  \n",
              "2           1.5        0.0  -9.66000  -68.88000    7  2017    1    18  \n",
              "3           1.0        0.5 -10.86316  -68.42573    2  2017    1    18  \n",
              "4           0.2        0.1 -10.89709  -68.40035    4  2017    1    18  "
            ],
            "text/html": [
              "\n",
              "  <div id=\"df-a5720297-fe9f-4b5c-8961-740554bd7da6\" class=\"colab-df-container\">\n",
              "    <div>\n",
              "<style scoped>\n",
              "    .dataframe tbody tr th:only-of-type {\n",
              "        vertical-align: middle;\n",
              "    }\n",
              "\n",
              "    .dataframe tbody tr th {\n",
              "        vertical-align: top;\n",
              "    }\n",
              "\n",
              "    .dataframe thead th {\n",
              "        text-align: right;\n",
              "    }\n",
              "</style>\n",
              "<table border=\"1\" class=\"dataframe\">\n",
              "  <thead>\n",
              "    <tr style=\"text-align: right;\">\n",
              "      <th></th>\n",
              "      <th>datahora</th>\n",
              "      <th>estado</th>\n",
              "      <th>municipio</th>\n",
              "      <th>bioma</th>\n",
              "      <th>diasemchuva</th>\n",
              "      <th>precipitacao</th>\n",
              "      <th>riscofogo</th>\n",
              "      <th>latitude</th>\n",
              "      <th>longitude</th>\n",
              "      <th>dia</th>\n",
              "      <th>ano</th>\n",
              "      <th>mes</th>\n",
              "      <th>hora</th>\n",
              "    </tr>\n",
              "  </thead>\n",
              "  <tbody>\n",
              "    <tr>\n",
              "      <th>0</th>\n",
              "      <td>2017-01-29 23:39:17</td>\n",
              "      <td>ACRE</td>\n",
              "      <td>RIO BRANCO</td>\n",
              "      <td>Amazonia</td>\n",
              "      <td>0.0</td>\n",
              "      <td>10.5</td>\n",
              "      <td>0.0</td>\n",
              "      <td>-10.37930</td>\n",
              "      <td>-68.92670</td>\n",
              "      <td>29</td>\n",
              "      <td>2017</td>\n",
              "      <td>1</td>\n",
              "      <td>23</td>\n",
              "    </tr>\n",
              "    <tr>\n",
              "      <th>1</th>\n",
              "      <td>2017-01-08 17:30:00</td>\n",
              "      <td>ACRE</td>\n",
              "      <td>FEIJO</td>\n",
              "      <td>Amazonia</td>\n",
              "      <td>0.0</td>\n",
              "      <td>0.5</td>\n",
              "      <td>0.0</td>\n",
              "      <td>-8.84000</td>\n",
              "      <td>-70.01000</td>\n",
              "      <td>8</td>\n",
              "      <td>2017</td>\n",
              "      <td>1</td>\n",
              "      <td>17</td>\n",
              "    </tr>\n",
              "    <tr>\n",
              "      <th>2</th>\n",
              "      <td>2017-01-07 18:30:00</td>\n",
              "      <td>ACRE</td>\n",
              "      <td>SENA MADUREIRA</td>\n",
              "      <td>Amazonia</td>\n",
              "      <td>0.0</td>\n",
              "      <td>1.5</td>\n",
              "      <td>0.0</td>\n",
              "      <td>-9.66000</td>\n",
              "      <td>-68.88000</td>\n",
              "      <td>7</td>\n",
              "      <td>2017</td>\n",
              "      <td>1</td>\n",
              "      <td>18</td>\n",
              "    </tr>\n",
              "    <tr>\n",
              "      <th>3</th>\n",
              "      <td>2017-01-02 18:50:00</td>\n",
              "      <td>ACRE</td>\n",
              "      <td>EPITACIOLANDIA</td>\n",
              "      <td>Amazonia</td>\n",
              "      <td>0.0</td>\n",
              "      <td>1.0</td>\n",
              "      <td>0.5</td>\n",
              "      <td>-10.86316</td>\n",
              "      <td>-68.42573</td>\n",
              "      <td>2</td>\n",
              "      <td>2017</td>\n",
              "      <td>1</td>\n",
              "      <td>18</td>\n",
              "    </tr>\n",
              "    <tr>\n",
              "      <th>4</th>\n",
              "      <td>2017-01-04 18:12:00</td>\n",
              "      <td>ACRE</td>\n",
              "      <td>XAPURI</td>\n",
              "      <td>Amazonia</td>\n",
              "      <td>0.0</td>\n",
              "      <td>0.2</td>\n",
              "      <td>0.1</td>\n",
              "      <td>-10.89709</td>\n",
              "      <td>-68.40035</td>\n",
              "      <td>4</td>\n",
              "      <td>2017</td>\n",
              "      <td>1</td>\n",
              "      <td>18</td>\n",
              "    </tr>\n",
              "  </tbody>\n",
              "</table>\n",
              "</div>\n",
              "    <div class=\"colab-df-buttons\">\n",
              "\n",
              "  <div class=\"colab-df-container\">\n",
              "    <button class=\"colab-df-convert\" onclick=\"convertToInteractive('df-a5720297-fe9f-4b5c-8961-740554bd7da6')\"\n",
              "            title=\"Convert this dataframe to an interactive table.\"\n",
              "            style=\"display:none;\">\n",
              "\n",
              "  <svg xmlns=\"http://www.w3.org/2000/svg\" height=\"24px\" viewBox=\"0 -960 960 960\">\n",
              "    <path d=\"M120-120v-720h720v720H120Zm60-500h600v-160H180v160Zm220 220h160v-160H400v160Zm0 220h160v-160H400v160ZM180-400h160v-160H180v160Zm440 0h160v-160H620v160ZM180-180h160v-160H180v160Zm440 0h160v-160H620v160Z\"/>\n",
              "  </svg>\n",
              "    </button>\n",
              "\n",
              "  <style>\n",
              "    .colab-df-container {\n",
              "      display:flex;\n",
              "      gap: 12px;\n",
              "    }\n",
              "\n",
              "    .colab-df-convert {\n",
              "      background-color: #E8F0FE;\n",
              "      border: none;\n",
              "      border-radius: 50%;\n",
              "      cursor: pointer;\n",
              "      display: none;\n",
              "      fill: #1967D2;\n",
              "      height: 32px;\n",
              "      padding: 0 0 0 0;\n",
              "      width: 32px;\n",
              "    }\n",
              "\n",
              "    .colab-df-convert:hover {\n",
              "      background-color: #E2EBFA;\n",
              "      box-shadow: 0px 1px 2px rgba(60, 64, 67, 0.3), 0px 1px 3px 1px rgba(60, 64, 67, 0.15);\n",
              "      fill: #174EA6;\n",
              "    }\n",
              "\n",
              "    .colab-df-buttons div {\n",
              "      margin-bottom: 4px;\n",
              "    }\n",
              "\n",
              "    [theme=dark] .colab-df-convert {\n",
              "      background-color: #3B4455;\n",
              "      fill: #D2E3FC;\n",
              "    }\n",
              "\n",
              "    [theme=dark] .colab-df-convert:hover {\n",
              "      background-color: #434B5C;\n",
              "      box-shadow: 0px 1px 3px 1px rgba(0, 0, 0, 0.15);\n",
              "      filter: drop-shadow(0px 1px 2px rgba(0, 0, 0, 0.3));\n",
              "      fill: #FFFFFF;\n",
              "    }\n",
              "  </style>\n",
              "\n",
              "    <script>\n",
              "      const buttonEl =\n",
              "        document.querySelector('#df-a5720297-fe9f-4b5c-8961-740554bd7da6 button.colab-df-convert');\n",
              "      buttonEl.style.display =\n",
              "        google.colab.kernel.accessAllowed ? 'block' : 'none';\n",
              "\n",
              "      async function convertToInteractive(key) {\n",
              "        const element = document.querySelector('#df-a5720297-fe9f-4b5c-8961-740554bd7da6');\n",
              "        const dataTable =\n",
              "          await google.colab.kernel.invokeFunction('convertToInteractive',\n",
              "                                                    [key], {});\n",
              "        if (!dataTable) return;\n",
              "\n",
              "        const docLinkHtml = 'Like what you see? Visit the ' +\n",
              "          '<a target=\"_blank\" href=https://colab.research.google.com/notebooks/data_table.ipynb>data table notebook</a>'\n",
              "          + ' to learn more about interactive tables.';\n",
              "        element.innerHTML = '';\n",
              "        dataTable['output_type'] = 'display_data';\n",
              "        await google.colab.output.renderOutput(dataTable, element);\n",
              "        const docLink = document.createElement('div');\n",
              "        docLink.innerHTML = docLinkHtml;\n",
              "        element.appendChild(docLink);\n",
              "      }\n",
              "    </script>\n",
              "  </div>\n",
              "\n",
              "\n",
              "<div id=\"df-2940ed0f-f411-4a39-ad82-850068814588\">\n",
              "  <button class=\"colab-df-quickchart\" onclick=\"quickchart('df-2940ed0f-f411-4a39-ad82-850068814588')\"\n",
              "            title=\"Suggest charts\"\n",
              "            style=\"display:none;\">\n",
              "\n",
              "<svg xmlns=\"http://www.w3.org/2000/svg\" height=\"24px\"viewBox=\"0 0 24 24\"\n",
              "     width=\"24px\">\n",
              "    <g>\n",
              "        <path d=\"M19 3H5c-1.1 0-2 .9-2 2v14c0 1.1.9 2 2 2h14c1.1 0 2-.9 2-2V5c0-1.1-.9-2-2-2zM9 17H7v-7h2v7zm4 0h-2V7h2v10zm4 0h-2v-4h2v4z\"/>\n",
              "    </g>\n",
              "</svg>\n",
              "  </button>\n",
              "\n",
              "<style>\n",
              "  .colab-df-quickchart {\n",
              "      --bg-color: #E8F0FE;\n",
              "      --fill-color: #1967D2;\n",
              "      --hover-bg-color: #E2EBFA;\n",
              "      --hover-fill-color: #174EA6;\n",
              "      --disabled-fill-color: #AAA;\n",
              "      --disabled-bg-color: #DDD;\n",
              "  }\n",
              "\n",
              "  [theme=dark] .colab-df-quickchart {\n",
              "      --bg-color: #3B4455;\n",
              "      --fill-color: #D2E3FC;\n",
              "      --hover-bg-color: #434B5C;\n",
              "      --hover-fill-color: #FFFFFF;\n",
              "      --disabled-bg-color: #3B4455;\n",
              "      --disabled-fill-color: #666;\n",
              "  }\n",
              "\n",
              "  .colab-df-quickchart {\n",
              "    background-color: var(--bg-color);\n",
              "    border: none;\n",
              "    border-radius: 50%;\n",
              "    cursor: pointer;\n",
              "    display: none;\n",
              "    fill: var(--fill-color);\n",
              "    height: 32px;\n",
              "    padding: 0;\n",
              "    width: 32px;\n",
              "  }\n",
              "\n",
              "  .colab-df-quickchart:hover {\n",
              "    background-color: var(--hover-bg-color);\n",
              "    box-shadow: 0 1px 2px rgba(60, 64, 67, 0.3), 0 1px 3px 1px rgba(60, 64, 67, 0.15);\n",
              "    fill: var(--button-hover-fill-color);\n",
              "  }\n",
              "\n",
              "  .colab-df-quickchart-complete:disabled,\n",
              "  .colab-df-quickchart-complete:disabled:hover {\n",
              "    background-color: var(--disabled-bg-color);\n",
              "    fill: var(--disabled-fill-color);\n",
              "    box-shadow: none;\n",
              "  }\n",
              "\n",
              "  .colab-df-spinner {\n",
              "    border: 2px solid var(--fill-color);\n",
              "    border-color: transparent;\n",
              "    border-bottom-color: var(--fill-color);\n",
              "    animation:\n",
              "      spin 1s steps(1) infinite;\n",
              "  }\n",
              "\n",
              "  @keyframes spin {\n",
              "    0% {\n",
              "      border-color: transparent;\n",
              "      border-bottom-color: var(--fill-color);\n",
              "      border-left-color: var(--fill-color);\n",
              "    }\n",
              "    20% {\n",
              "      border-color: transparent;\n",
              "      border-left-color: var(--fill-color);\n",
              "      border-top-color: var(--fill-color);\n",
              "    }\n",
              "    30% {\n",
              "      border-color: transparent;\n",
              "      border-left-color: var(--fill-color);\n",
              "      border-top-color: var(--fill-color);\n",
              "      border-right-color: var(--fill-color);\n",
              "    }\n",
              "    40% {\n",
              "      border-color: transparent;\n",
              "      border-right-color: var(--fill-color);\n",
              "      border-top-color: var(--fill-color);\n",
              "    }\n",
              "    60% {\n",
              "      border-color: transparent;\n",
              "      border-right-color: var(--fill-color);\n",
              "    }\n",
              "    80% {\n",
              "      border-color: transparent;\n",
              "      border-right-color: var(--fill-color);\n",
              "      border-bottom-color: var(--fill-color);\n",
              "    }\n",
              "    90% {\n",
              "      border-color: transparent;\n",
              "      border-bottom-color: var(--fill-color);\n",
              "    }\n",
              "  }\n",
              "</style>\n",
              "\n",
              "  <script>\n",
              "    async function quickchart(key) {\n",
              "      const quickchartButtonEl =\n",
              "        document.querySelector('#' + key + ' button');\n",
              "      quickchartButtonEl.disabled = true;  // To prevent multiple clicks.\n",
              "      quickchartButtonEl.classList.add('colab-df-spinner');\n",
              "      try {\n",
              "        const charts = await google.colab.kernel.invokeFunction(\n",
              "            'suggestCharts', [key], {});\n",
              "      } catch (error) {\n",
              "        console.error('Error during call to suggestCharts:', error);\n",
              "      }\n",
              "      quickchartButtonEl.classList.remove('colab-df-spinner');\n",
              "      quickchartButtonEl.classList.add('colab-df-quickchart-complete');\n",
              "    }\n",
              "    (() => {\n",
              "      let quickchartButtonEl =\n",
              "        document.querySelector('#df-2940ed0f-f411-4a39-ad82-850068814588 button');\n",
              "      quickchartButtonEl.style.display =\n",
              "        google.colab.kernel.accessAllowed ? 'block' : 'none';\n",
              "    })();\n",
              "  </script>\n",
              "</div>\n",
              "\n",
              "    </div>\n",
              "  </div>\n"
            ],
            "application/vnd.google.colaboratory.intrinsic+json": {
              "type": "dataframe",
              "variable_name": "df"
            }
          },
          "metadata": {},
          "execution_count": 44
        }
      ],
      "source": [
        "df.head()"
      ]
    },
    {
      "cell_type": "code",
      "source": [
        "df.to_csv('queimadas_tratado_4.csv', index=False)"
      ],
      "metadata": {
        "id": "V_mBPebpCB-a"
      },
      "execution_count": 45,
      "outputs": []
    },
    {
      "cell_type": "code",
      "source": [
        "del df\n",
        "gc.collect()"
      ],
      "metadata": {
        "colab": {
          "base_uri": "https://localhost:8080/"
        },
        "id": "IkMgbdA8CWeW",
        "outputId": "44268591-4e0e-4f38-9669-a4c48cf32077"
      },
      "execution_count": 46,
      "outputs": [
        {
          "output_type": "execute_result",
          "data": {
            "text/plain": [
              "0"
            ]
          },
          "metadata": {},
          "execution_count": 46
        }
      ]
    },
    {
      "cell_type": "code",
      "source": [
        "df = pd.read_csv('queimadas_tratado_4.csv')"
      ],
      "metadata": {
        "id": "GvBO5JLACYfh"
      },
      "execution_count": 47,
      "outputs": []
    },
    {
      "cell_type": "markdown",
      "metadata": {
        "id": "wk5lpuyTxUvl"
      },
      "source": [
        "Diante da necessidade de identificar se há períodos mais suscetíveis a queimadas, optou-se por criar uma nova variável de tempo, representando as estações do ano"
      ]
    },
    {
      "cell_type": "code",
      "execution_count": 48,
      "metadata": {
        "id": "UyMEm93ZxUvl"
      },
      "outputs": [],
      "source": [
        "def estacao(mes):\n",
        "    if mes in [12, 1, 2]:\n",
        "        return 'Verão'\n",
        "    elif mes in [3, 4, 5]:\n",
        "        return 'Outono'\n",
        "    elif mes in [6, 7, 8]:\n",
        "        return 'Inverno'\n",
        "    elif mes in [9, 10, 11]:\n",
        "        return 'Primavera'\n",
        "    return 'Desconhecida'\n",
        "\n",
        "df['estacao'] = df['mes'].apply(estacao)"
      ]
    },
    {
      "cell_type": "code",
      "source": [
        "pd.set_option('display.float_format', '{:.2f}'.format)\n",
        "analise = ['diasemchuva','precipitacao','riscofogo','hora','ano','mes','hora','dia','estacao']\n",
        "df[analise].describe()"
      ],
      "metadata": {
        "id": "-IqvV5ZgK57S"
      },
      "execution_count": null,
      "outputs": []
    },
    {
      "cell_type": "code",
      "source": [
        "for var in list(globals().keys()):\n",
        "    if var.endswith('_result'):\n",
        "        del globals()[var]\n",
        "\n",
        "gc.collect()"
      ],
      "metadata": {
        "colab": {
          "base_uri": "https://localhost:8080/"
        },
        "id": "3pZ265zaH_YD",
        "outputId": "1d2bc53f-4e8b-4606-9fa5-548e44aa8112"
      },
      "execution_count": 53,
      "outputs": [
        {
          "output_type": "execute_result",
          "data": {
            "text/plain": [
              "62"
            ]
          },
          "metadata": {},
          "execution_count": 53
        }
      ]
    },
    {
      "cell_type": "code",
      "execution_count": 1,
      "metadata": {
        "id": "YKympGNlxUvm",
        "colab": {
          "base_uri": "https://localhost:8080/",
          "height": 176
        },
        "outputId": "dc5068df-04f0-4d6f-8ea9-f43a247b4b66"
      },
      "outputs": [
        {
          "output_type": "error",
          "ename": "NameError",
          "evalue": "name 'df' is not defined",
          "traceback": [
            "\u001b[0;31m---------------------------------------------------------------------------\u001b[0m",
            "\u001b[0;31mNameError\u001b[0m                                 Traceback (most recent call last)",
            "\u001b[0;32m<ipython-input-1-bd349a7f3a59>\u001b[0m in \u001b[0;36m<cell line: 2>\u001b[0;34m()\u001b[0m\n\u001b[1;32m      1\u001b[0m \u001b[0manalise\u001b[0m \u001b[0;34m=\u001b[0m  \u001b[0;34m[\u001b[0m\u001b[0;34m'estado'\u001b[0m\u001b[0;34m,\u001b[0m\u001b[0;34m'municipio'\u001b[0m\u001b[0;34m,\u001b[0m\u001b[0;34m'bioma'\u001b[0m\u001b[0;34m,\u001b[0m \u001b[0;34m'diasemchuva'\u001b[0m\u001b[0;34m,\u001b[0m\u001b[0;34m'precipitacao'\u001b[0m\u001b[0;34m,\u001b[0m\u001b[0;34m'riscofogo'\u001b[0m\u001b[0;34m,\u001b[0m\u001b[0;34m'dia'\u001b[0m\u001b[0;34m,\u001b[0m\u001b[0;34m'ano'\u001b[0m\u001b[0;34m,\u001b[0m\u001b[0;34m'mes'\u001b[0m\u001b[0;34m,\u001b[0m\u001b[0;34m'hora'\u001b[0m\u001b[0;34m,\u001b[0m\u001b[0;34m'estacao'\u001b[0m\u001b[0;34m]\u001b[0m\u001b[0;34m\u001b[0m\u001b[0;34m\u001b[0m\u001b[0m\n\u001b[0;32m----> 2\u001b[0;31m \u001b[0mdf\u001b[0m\u001b[0;34m[\u001b[0m\u001b[0manalise\u001b[0m\u001b[0;34m]\u001b[0m\u001b[0;34m.\u001b[0m\u001b[0mmode\u001b[0m\u001b[0;34m(\u001b[0m\u001b[0;34m)\u001b[0m\u001b[0;34m\u001b[0m\u001b[0;34m\u001b[0m\u001b[0m\n\u001b[0m",
            "\u001b[0;31mNameError\u001b[0m: name 'df' is not defined"
          ]
        }
      ],
      "source": [
        "analise =  ['estado','municipio','bioma', 'diasemchuva','precipitacao','riscofogo','dia','ano','mes','hora','estacao']\n",
        "df[analise].mode()"
      ]
    },
    {
      "cell_type": "code",
      "execution_count": null,
      "metadata": {
        "id": "MYjuc8U_xUvm"
      },
      "outputs": [],
      "source": [
        "analise = ['diasemchuva','precipitacao', 'riscofogo','hora','mes', 'dia']\n",
        "\n",
        "df[analise].plot(kind='box', subplots=True, layout=(3, 2), sharex=False, sharey=False, figsize=(15, 10))\n",
        "plt.show()"
      ]
    },
    {
      "cell_type": "markdown",
      "metadata": {
        "id": "fT6_Vn8ixUvn"
      },
      "source": [
        "Ao elaborar o boxplot, foi identificado muitos outliers. No entanto, dado o grande volume de dados analisados, esses outliers não devem ser descartados, pois estão coerentes com o comportamento esperado das variáveis. Podemos observar o seguinte em cada box plot:\n",
        "\n",
        "* Dias sem chuva: A variável apresentou uma média em torno de 20 dias, mas com vários outliers acima de 70. Esses valores refletem regiões com períodos prolongados de estiagem, que são consistentes com padrões climáticos regionais, justificando a presença de outliers.\n",
        "\n",
        "* Precipitação: Embora a média seja baixa, diversos outliers indicam chuvas intensas em alguns momentos. Esses picos são compatíveis com eventos extremos e podem estar associados a variações sazonais ou regionais, sem indicar erros nos dados.\n",
        "\n",
        "* Risco de fogo: A distribuição mostrou uma concentração no terceiro quartil, com outliers na parte superior. Esses outliers são coerentes, dado que períodos de maior risco de fogo podem ocorrer em situações excepcionais, como secas prolongadas ou condições climáticas extremas.\n",
        "\n",
        "* Hora do dia: Os dados mostraram uma concentração em torno das 15h, com alguns outliers em horários fora do padrão. Esses valores podem refletir casos específicos em que as queimadas ocorrem em horários menos comuns, mas são consistentes com o comportamento variável do fenômeno.\n",
        "\n",
        "* Meses: A distribuição mensal apresentou uma concentração em torno de setembro, com outliers nos meses anteriores a maio. Isso é esperado, pois o período de maior incidência de queimadas costuma ocorrer no segundo semestre, sendo os valores fora desse intervalo representações de variações climáticas regionais."
      ]
    },
    {
      "cell_type": "code",
      "execution_count": null,
      "metadata": {
        "id": "RBNzjMkcxUvn"
      },
      "outputs": [],
      "source": [
        "analise = ['diasemchuva','precipitacao', 'riscofogo','hora','mes', 'dia', 'ano']\n",
        "\n",
        "axes = df[analise].hist(figsize = (15,10))\n",
        "for ax in axes.flatten():\n",
        "    ax.grid(False)\n",
        "\n",
        "plt.show()"
      ]
    },
    {
      "cell_type": "markdown",
      "metadata": {
        "id": "IoBNKgbpxUvo"
      },
      "source": [
        "> Nesta seção, são apresentados os histogramas das variáveis analisadas, demonstrando a incidência das queimadas e o comportamento no período estudado. Esses gráficos permitem visualizar a distribuição das variáveis, facilitando a identificação de padrões e tendências relacionadas às queimadas."
      ]
    },
    {
      "cell_type": "code",
      "execution_count": null,
      "metadata": {
        "id": "w7NwmOAoxUvo"
      },
      "outputs": [],
      "source": [
        "plt.figure(figsize=(8, 6))\n",
        "plt.hist(df['hora'], bins=24, range=(0, 24), edgecolor='black', alpha=0.7, color = 'deepskyblue')\n",
        "plt.title('Distribuição de Queimadas por Hora')\n",
        "plt.xlabel('Hora do Dia')\n",
        "plt.ylabel('Número de Queimadas')\n",
        "plt.xticks(range(0, 24))\n",
        "plt.grid(axis='y')\n",
        "plt.show()\n"
      ]
    },
    {
      "cell_type": "markdown",
      "metadata": {
        "id": "OwBI2Y0HxUvo"
      },
      "source": [
        "> Ao analisar o gráfico de Distribuiçã de Queimadas por Hora foi possivel identificar uma grande numero de ocorrências no período correspondente entre 16h e 18h. Esse padrão não é isolado e pode estar relacionado ao horário de atividade laboral, coincidindo com o término do expediente."
      ]
    },
    {
      "cell_type": "code",
      "execution_count": null,
      "metadata": {
        "id": "igRpuMQpxUvp"
      },
      "outputs": [],
      "source": [
        "estacao_counts = df['estacao'].value_counts()\n",
        "\n",
        "colors = ['mediumseagreen', 'dodgerblue', 'orange', 'orangered']\n",
        "\n",
        "plt.figure(figsize=(8, 6))\n",
        "bars = plt.bar(estacao_counts.index, estacao_counts.values, color=colors[:len(estacao_counts)], width=0.5)\n",
        "\n",
        "plt.title('Distribuição das Queimadas por Estações do Ano', fontsize=16)\n",
        "plt.xlabel('Estações', fontsize=12)\n",
        "plt.ylabel('Frequência', fontsize=12)\n",
        "\n",
        "for bar in bars:\n",
        "    yval = bar.get_height()\n",
        "    plt.text(bar.get_x() + bar.get_width()/2, yval, f'{yval}', ha='center', va='bottom', fontsize=10, color='black')\n",
        "\n",
        "plt.grid(False)\n",
        "plt.show()"
      ]
    },
    {
      "cell_type": "markdown",
      "metadata": {
        "id": "qAikazI4xUvp"
      },
      "source": [
        "> Análise da Distribuição das Queimadas por Estação: Neste histograma, que relaciona as estações do ano, observa-se uma prevalência das queimadas no inverno e na primavera em comparação com as outras estações. Esse fenômeno pode estar associado ao fato de que, durante esse período, grande parte do país apresenta condições mais secas, tornando-se mais propenso a essas ocorrências."
      ]
    },
    {
      "cell_type": "code",
      "execution_count": null,
      "metadata": {
        "id": "8GSdzriWxUvp"
      },
      "outputs": [],
      "source": [
        "frequencia_dia = df['dia'].value_counts().sort_index()\n",
        "\n",
        "plt.plot(frequencia_dia.index, frequencia_dia.values, marker='o')\n",
        "\n",
        "plt.title('Distribuição de Queimadas ao Longo dos Dias do Mês', fontsize=14)\n",
        "plt.xlabel('Dia', fontsize=12)\n",
        "plt.ylabel('Frequência', fontsize=12)\n",
        "\n",
        "plt.show()"
      ]
    },
    {
      "cell_type": "markdown",
      "metadata": {
        "id": "DGiRJrP6xUvq"
      },
      "source": [
        "> Nesta análise da distribuição de ocorrências de queimadas ao longo dos dias do mÊs, é possível observar a existência de picos em torno doa dias 6 e 14, além de valores elevados entre os dias 5 a 19, quando comparados ao restante dos dias do mês."
      ]
    },
    {
      "cell_type": "code",
      "execution_count": null,
      "metadata": {
        "id": "LwYLsxT-xUvq"
      },
      "outputs": [],
      "source": [
        "le_bioma = LabelEncoder()\n",
        "le_estado = LabelEncoder()\n",
        "le_estacao = LabelEncoder()\n",
        "\n",
        "df['bioma_encoded'] = le_bioma.fit_transform(df['bioma'])\n",
        "df['estado_encoded'] = le_estado.fit_transform(df['estado'])\n",
        "df['estacao_encoded'] = le_estacao.fit_transform(df['estacao'])\n",
        "\n",
        "heatmap_data = df[['riscofogo', 'hora', 'ano', 'mes', 'precipitacao', 'diasemchuva', 'bioma_encoded', 'estado_encoded', 'estacao_encoded']]\n",
        "\n",
        "correlation_matrix = heatmap_data.corr()\n",
        "\n",
        "fig = px.imshow(\n",
        "    correlation_matrix,\n",
        "    labels=dict(x='Variáveis', y='Variáveis', color='Correlação'),\n",
        "    x=correlation_matrix.columns,\n",
        "    y=correlation_matrix.index,\n",
        "    title='Correlação com Variáveis Codificadas',\n",
        "    color_continuous_scale='RdBu_r'\n",
        ")\n",
        "\n",
        "fig.show()\n"
      ]
    },
    {
      "cell_type": "markdown",
      "metadata": {
        "id": "ls4nUEQNxUvr"
      },
      "source": [
        " > Neste heatmap, é possível observar uma correlação positiva entre as variáveis \"dias sem chuva\" e \"risco de fogo\", indicando que quanto maior o período de dias sem precipitação, maior é o risco de incêndios florestais. Por outro lado, também se destaca uma correlação negativa entre a quantidade de precipitação e a redução do risco de fogo, sugerindo que chuvas adequadas podem desempenhar um papel crucial na mitigação das condições que favorecem queimadas. Esses padrões ressaltam a importância de monitorar essas variáveis para implementar estratégias de prevenção e gestão de riscos de incêndios."
      ]
    },
    {
      "cell_type": "code",
      "execution_count": null,
      "metadata": {
        "id": "R0cRzN90xUvr"
      },
      "outputs": [],
      "source": [
        "quantidade_por_estado = df['estado'].value_counts().reset_index()\n",
        "quantidade_por_estado.columns = ['estado', 'quantidade']\n",
        "\n",
        "fig = px.bar(\n",
        "    quantidade_por_estado,\n",
        "    x='quantidade',\n",
        "    y='estado',\n",
        "    title='Quantidade de Ocorrências por Estado',\n",
        "    labels={'quantidade': 'Quantidade', 'estado': 'Estado'},\n",
        "    color='quantidade',\n",
        "    color_continuous_scale='Blues',\n",
        "    orientation='h'\n",
        ")\n",
        "\n",
        "\n",
        "fig.update_layout(height=600)\n",
        "\n",
        "fig.show()"
      ]
    },
    {
      "cell_type": "markdown",
      "metadata": {
        "id": "jeVXcfuXxUvr"
      },
      "source": [
        "> Neste gráfico são apresentados os estados com maior incidência de queimadas. É fundamental que o governo federal implemente iniciativas específicas para combater essas queimadas, especialmente nos estados que registram os maiores índices de ocorrência."
      ]
    },
    {
      "cell_type": "code",
      "execution_count": null,
      "metadata": {
        "id": "k98J6K1BxUvr"
      },
      "outputs": [],
      "source": [
        "quantidade_por_bioma = df['bioma'].value_counts().reset_index()\n",
        "quantidade_por_bioma.columns = ['bioma', 'quantidade']\n",
        "\n",
        "fig = px.treemap(\n",
        "    quantidade_por_bioma,\n",
        "    path=['bioma'],\n",
        "    values='quantidade',\n",
        "    title='Quantidade de Ocorrências por Bioma',\n",
        "    color='quantidade',\n",
        "    color_continuous_scale = 'Blues',\n",
        "    hover_data={'quantidade': True}\n",
        ")\n",
        "\n",
        "\n",
        "fig.show()"
      ]
    },
    {
      "cell_type": "markdown",
      "metadata": {
        "id": "Lq9xtH0bxUvs"
      },
      "source": [
        "> Neste gráfico, são apresentados os biomas com maior incidência de queimadas, destacando a necessidade urgente de preservação dessas áreas. O cerrado, em particular, merece atenção especial devido às suas características únicas e à sua importância ecológica. Este bioma não apenas abriga uma rica biodiversidade, mas também desempenha um papel crucial na regulação climática e na manutenção dos recursos hídricos. Além disso, a Amazônia, reconhecida mundialmente por sua importância na captura de carbono e na conservação da biodiversidade, também enfrenta desafios significativos relacionados às queimadas. Portanto, é imperativo que sejam implementadas políticas eficazes de proteção e recuperação desses biomas, a fim de garantir a sustentabilidade ambiental e a preservação dos recursos naturais para as futuras gerações"
      ]
    },
    {
      "cell_type": "code",
      "execution_count": null,
      "metadata": {
        "id": "njK-Xos0xUvs"
      },
      "outputs": [],
      "source": [
        "quantidade_por_municipio = df['municipio'].value_counts().reset_index()\n",
        "quantidade_por_municipio.columns = ['municipio', 'quantidade']\n",
        "\n",
        "municipios = quantidade_por_municipio.head(20)\n",
        "\n",
        "fig = px.treemap(municipios,\n",
        "                 path=['municipio'],\n",
        "                 values='quantidade',\n",
        "                 title='Reação dos 20 Municípios com Maior Quantidade de Queimadas',\n",
        "                 color='quantidade',\n",
        "                 color_continuous_scale='RdBu_r')\n",
        "\n",
        "fig.show()\n",
        "\n"
      ]
    },
    {
      "cell_type": "markdown",
      "metadata": {
        "id": "w_PPGMh9xUvt"
      },
      "source": [
        "> Por último, apresentamos a relação dos 20 municípios com o maior número de ocorrências de queimadas. Essa concentração de eventos indica a necessidade urgente de políticas públicas eficazes voltadas para a mitigação das queimadas nessas áreas. É fundamental que as autoridades reconheçam a gravidade da situação e implementem medidas preventivas."
      ]
    },
    {
      "cell_type": "markdown",
      "metadata": {
        "id": "HkmJcsHBxUvt"
      },
      "source": [
        "---"
      ]
    },
    {
      "cell_type": "markdown",
      "metadata": {
        "id": "jdvjQ3RixUvt"
      },
      "source": [
        "**5. Respostas ao checklist**"
      ]
    },
    {
      "cell_type": "markdown",
      "metadata": {
        "id": "h07xF38cxUvt"
      },
      "source": [
        "---"
      ]
    },
    {
      "cell_type": "markdown",
      "metadata": {
        "id": "MwSsQgG9xUvu"
      },
      "source": [
        "* Que premissas ou hipóteses você tem sobre o problema?"
      ]
    },
    {
      "cell_type": "markdown",
      "metadata": {
        "id": "VwbKO0XhxUvu"
      },
      "source": [
        "> **1- Modelagem preditiva: A suposição de que um modelo de aprendizado de máquina pode capturar e generalizar os padrões nos dados históricos para prever a ocorrência de queimadas em novas localidades.**"
      ]
    },
    {
      "cell_type": "markdown",
      "metadata": {
        "id": "tdoTCgRrxUvu"
      },
      "source": [
        ">**2-A premissa de que localidades com histórico de queimadas são mais propensas a novos incidentes. O padrão histórico pode ser um indicador significativo para a previsão de riscos futuros.**"
      ]
    },
    {
      "cell_type": "markdown",
      "metadata": {
        "id": "jBpWDZJnxUvv"
      },
      "source": [
        "* Que restrições ou condições foram impostas para selecionar os dados?"
      ]
    },
    {
      "cell_type": "markdown",
      "metadata": {
        "id": "LQYSCdMrxUvv"
      },
      "source": [
        "> **1- As restrições para a seleção dos dados incluem o período de análise, focando exclusivamente nos dados coletados entre 2017 e 2021. Além disso, a localidade da análise é restrita ao território brasileiro, com ênfase nos biomas presentes no Brasil.**"
      ]
    },
    {
      "cell_type": "markdown",
      "metadata": {
        "id": "1GzR8X6NxUvv"
      },
      "source": [
        "* Quantos atributos e instâncias existem?"
      ]
    },
    {
      "cell_type": "code",
      "execution_count": null,
      "metadata": {
        "id": "hizs3BUDxUvw"
      },
      "outputs": [],
      "source": [
        "df.shape"
      ]
    },
    {
      "cell_type": "markdown",
      "metadata": {
        "id": "F0ZcKUTjxUvw"
      },
      "source": [
        "* Quais são os tipos de dados dos atributos?"
      ]
    },
    {
      "cell_type": "code",
      "execution_count": null,
      "metadata": {
        "id": "jeE7vzKAxUvw"
      },
      "outputs": [],
      "source": [
        "df.info()"
      ]
    },
    {
      "cell_type": "markdown",
      "metadata": {
        "id": "wUD07_F1xUvx"
      },
      "source": [
        "* Há valores faltantes, discrepantes ou inconsistentes?"
      ]
    },
    {
      "cell_type": "markdown",
      "metadata": {
        "id": "waheCROMxUvx"
      },
      "source": [
        "> **No momento, não há valores faltantes, discrepantes ou inconsistentes nos dados. No início do trabalho, haviam valores ausentes nas seguintes colunas:**\n",
        "\n",
        ">* Bioma: 1.000 valores faltantes\n",
        ">* Dias sem chuva: 4.855.864 valores faltantes e 75.899 valores negativos\n",
        ">* Precipitação: 4.855.864 valores faltantes\n",
        ">* Risco de fogo: 152.273 valores negativo"
      ]
    },
    {
      "cell_type": "markdown",
      "metadata": {
        "id": "0wI4SfRexUvx"
      },
      "source": [
        "* Verifique quais operações de pré-processamento podem ser interessantes para o seu problema e salve visões diferentes do seu dataset (por exemplo, normalização, padronização, discretização e one-hot-encoding)."
      ]
    },
    {
      "cell_type": "markdown",
      "metadata": {
        "id": "XzmOV_1UxUvx"
      },
      "source": [
        "> **Foi utilizado o One-Hot Encoding para as variáveis de biomas, estação e estado na criação do heatmap. A análise das variáveis estado, estação e bioma revelou uma relação negativa entre estação e risco de fogo.**\n"
      ]
    },
    {
      "cell_type": "markdown",
      "metadata": {
        "id": "q-EP01LfxUvy"
      },
      "source": [
        "---"
      ]
    }
  ],
  "metadata": {
    "colab": {
      "provenance": []
    },
    "kernelspec": {
      "display_name": "base",
      "language": "python",
      "name": "python3"
    },
    "language_info": {
      "codemirror_mode": {
        "name": "ipython",
        "version": 3
      },
      "file_extension": ".py",
      "mimetype": "text/x-python",
      "name": "python",
      "nbconvert_exporter": "python",
      "pygments_lexer": "ipython3",
      "version": "3.12.2"
    }
  },
  "nbformat": 4,
  "nbformat_minor": 0
}